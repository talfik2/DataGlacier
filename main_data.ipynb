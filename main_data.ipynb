{
 "cells": [
  {
   "cell_type": "markdown",
   "metadata": {},
   "source": [
    "#### IMPORTING NECASSARY LIBRARIES"
   ]
  },
  {
   "cell_type": "code",
   "execution_count": null,
   "metadata": {},
   "outputs": [],
   "source": [
    "#objecti floata çevirme\n",
    "merge_3[\"Transaction-ID\"] = pd.to_numeric(merge_3[\"Transaction-ID\"], errors='coerce')"
   ]
  },
  {
   "cell_type": "code",
   "execution_count": 1,
   "metadata": {},
   "outputs": [],
   "source": [
    "import pandas as pd\n",
    "import numpy as np\n",
    "import matplotlib.pyplot as plt\n",
    "import seaborn as sns"
   ]
  },
  {
   "cell_type": "markdown",
   "metadata": {},
   "source": [
    "<font color=red> Review the Source Documentation\n",
    "</font>\n",
    "1. cab data : describing attributes of Transactions like Companies, Km travelled, price charged etc.\n",
    "2. Customer ID data : consists of uniques customer ids with their ages and income.\n",
    "3. Transaction ID data : Consists of unique Transaction Ids with the payment mode.\n",
    "4. City Data : Consists of various cities, their populations and number of users."
   ]
  },
  {
   "cell_type": "markdown",
   "metadata": {},
   "source": [
    "<font color=blue>cab_data DataFrame\n",
    "</font>"
   ]
  },
  {
   "cell_type": "code",
   "execution_count": 2,
   "metadata": {},
   "outputs": [
    {
     "data": {
      "text/html": [
       "<div>\n",
       "<style scoped>\n",
       "    .dataframe tbody tr th:only-of-type {\n",
       "        vertical-align: middle;\n",
       "    }\n",
       "\n",
       "    .dataframe tbody tr th {\n",
       "        vertical-align: top;\n",
       "    }\n",
       "\n",
       "    .dataframe thead th {\n",
       "        text-align: right;\n",
       "    }\n",
       "</style>\n",
       "<table border=\"1\" class=\"dataframe\">\n",
       "  <thead>\n",
       "    <tr style=\"text-align: right;\">\n",
       "      <th></th>\n",
       "      <th>Transaction ID</th>\n",
       "      <th>Date of Travel</th>\n",
       "      <th>Company</th>\n",
       "      <th>City</th>\n",
       "      <th>KM Travelled</th>\n",
       "      <th>Price Charged</th>\n",
       "      <th>Cost of Trip</th>\n",
       "    </tr>\n",
       "  </thead>\n",
       "  <tbody>\n",
       "    <tr>\n",
       "      <th>0</th>\n",
       "      <td>10000011</td>\n",
       "      <td>42377</td>\n",
       "      <td>Pink Cab</td>\n",
       "      <td>ATLANTA GA</td>\n",
       "      <td>30.45</td>\n",
       "      <td>370.95</td>\n",
       "      <td>313.635</td>\n",
       "    </tr>\n",
       "    <tr>\n",
       "      <th>1</th>\n",
       "      <td>10000012</td>\n",
       "      <td>42375</td>\n",
       "      <td>Pink Cab</td>\n",
       "      <td>ATLANTA GA</td>\n",
       "      <td>28.62</td>\n",
       "      <td>358.52</td>\n",
       "      <td>334.854</td>\n",
       "    </tr>\n",
       "    <tr>\n",
       "      <th>2</th>\n",
       "      <td>10000013</td>\n",
       "      <td>42371</td>\n",
       "      <td>Pink Cab</td>\n",
       "      <td>ATLANTA GA</td>\n",
       "      <td>9.04</td>\n",
       "      <td>125.20</td>\n",
       "      <td>97.632</td>\n",
       "    </tr>\n",
       "  </tbody>\n",
       "</table>\n",
       "</div>"
      ],
      "text/plain": [
       "   Transaction ID  Date of Travel   Company        City  KM Travelled  \\\n",
       "0        10000011           42377  Pink Cab  ATLANTA GA         30.45   \n",
       "1        10000012           42375  Pink Cab  ATLANTA GA         28.62   \n",
       "2        10000013           42371  Pink Cab  ATLANTA GA          9.04   \n",
       "\n",
       "   Price Charged  Cost of Trip  \n",
       "0         370.95       313.635  \n",
       "1         358.52       334.854  \n",
       "2         125.20        97.632  "
      ]
     },
     "execution_count": 2,
     "metadata": {},
     "output_type": "execute_result"
    }
   ],
   "source": [
    "cab_data = pd.read_csv(\"C:\\\\Users\\\\talfi\\\\python\\\\dataglacier\\\\w2\\\\DataSets-main\\\\Cab_Data.csv\")\n",
    "cab_data.head(3)"
   ]
  },
  {
   "cell_type": "markdown",
   "metadata": {},
   "source": [
    "<font color=red>Understand the field names and data types of cab_data DataFrame\n",
    "</font> <br>\n",
    "To understand the field names, I imported CSV file. <br>\n",
    "**Transaction ID** observation represents the unique transaction id for each trip. <br>\n",
    "**Date of Travel** observation represents the customer's travel date in the MS Excel format. We'll change it to the regular datetime format with read_date() function later. <br>\n",
    "**Company** observation includes the potential cab industries that XYZ planns to invest in, Pink Cab and Yellow Cab. <br>\n",
    "**City** observation contains the list of US cities relevant to our case. <br>\n",
    "**KM Travelled** observation represents the travelled KM for each customer. <br>\n",
    "**Price Charged** observation represents the revenue for each travel.<br>\n",
    "**Cost of Trip** observation represents the expense for each travel."
   ]
  },
  {
   "cell_type": "code",
   "execution_count": 4,
   "metadata": {},
   "outputs": [
    {
     "data": {
      "text/plain": [
       "(359392, 7)"
      ]
     },
     "execution_count": 4,
     "metadata": {},
     "output_type": "execute_result"
    }
   ],
   "source": [
    "cab_data.shape"
   ]
  },
  {
   "cell_type": "markdown",
   "metadata": {},
   "source": [
    "cab_data contains of 359392 rows and 7 columns."
   ]
  },
  {
   "cell_type": "code",
   "execution_count": 4,
   "metadata": {
    "scrolled": true
   },
   "outputs": [
    {
     "data": {
      "text/plain": [
       "Transaction ID      int64\n",
       "Date of Travel      int64\n",
       "Company            object\n",
       "City               object\n",
       "KM Travelled      float64\n",
       "Price Charged     float64\n",
       "Cost of Trip      float64\n",
       "dtype: object"
      ]
     },
     "execution_count": 4,
     "metadata": {},
     "output_type": "execute_result"
    }
   ],
   "source": [
    "cab_data.dtypes"
   ]
  },
  {
   "cell_type": "markdown",
   "metadata": {},
   "source": [
    "To understand data types of cab_data, I used Pandas' `.dtypes` function. <br>\n",
    "* Dtypes of Transaction ID and Date of Travel observations' are int64, <br>\n",
    "* Dtypes of Company and City observations' are object, <br>\n",
    "* KM Travelled, Prica Charged and Cost of Trip observations' are float64. "
   ]
  },
  {
   "cell_type": "markdown",
   "metadata": {},
   "source": [
    "Summary statistics of cab_data"
   ]
  },
  {
   "cell_type": "code",
   "execution_count": 8,
   "metadata": {},
   "outputs": [
    {
     "data": {
      "text/html": [
       "<div>\n",
       "<style scoped>\n",
       "    .dataframe tbody tr th:only-of-type {\n",
       "        vertical-align: middle;\n",
       "    }\n",
       "\n",
       "    .dataframe tbody tr th {\n",
       "        vertical-align: top;\n",
       "    }\n",
       "\n",
       "    .dataframe thead th {\n",
       "        text-align: right;\n",
       "    }\n",
       "</style>\n",
       "<table border=\"1\" class=\"dataframe\">\n",
       "  <thead>\n",
       "    <tr style=\"text-align: right;\">\n",
       "      <th></th>\n",
       "      <th>Transaction ID</th>\n",
       "      <th>Date of Travel</th>\n",
       "      <th>KM Travelled</th>\n",
       "      <th>Price Charged</th>\n",
       "      <th>Cost of Trip</th>\n",
       "    </tr>\n",
       "  </thead>\n",
       "  <tbody>\n",
       "    <tr>\n",
       "      <th>count</th>\n",
       "      <td>3.593920e+05</td>\n",
       "      <td>359392.000000</td>\n",
       "      <td>359392.000000</td>\n",
       "      <td>359392.000000</td>\n",
       "      <td>359392.000000</td>\n",
       "    </tr>\n",
       "    <tr>\n",
       "      <th>mean</th>\n",
       "      <td>1.022076e+07</td>\n",
       "      <td>42964.067998</td>\n",
       "      <td>22.567254</td>\n",
       "      <td>423.443311</td>\n",
       "      <td>286.190113</td>\n",
       "    </tr>\n",
       "    <tr>\n",
       "      <th>std</th>\n",
       "      <td>1.268058e+05</td>\n",
       "      <td>307.467197</td>\n",
       "      <td>12.233526</td>\n",
       "      <td>274.378911</td>\n",
       "      <td>157.993661</td>\n",
       "    </tr>\n",
       "    <tr>\n",
       "      <th>min</th>\n",
       "      <td>1.000001e+07</td>\n",
       "      <td>42371.000000</td>\n",
       "      <td>1.900000</td>\n",
       "      <td>15.600000</td>\n",
       "      <td>19.000000</td>\n",
       "    </tr>\n",
       "    <tr>\n",
       "      <th>25%</th>\n",
       "      <td>1.011081e+07</td>\n",
       "      <td>42697.000000</td>\n",
       "      <td>12.000000</td>\n",
       "      <td>206.437500</td>\n",
       "      <td>151.200000</td>\n",
       "    </tr>\n",
       "    <tr>\n",
       "      <th>50%</th>\n",
       "      <td>1.022104e+07</td>\n",
       "      <td>42988.000000</td>\n",
       "      <td>22.440000</td>\n",
       "      <td>386.360000</td>\n",
       "      <td>282.480000</td>\n",
       "    </tr>\n",
       "    <tr>\n",
       "      <th>75%</th>\n",
       "      <td>1.033094e+07</td>\n",
       "      <td>43232.000000</td>\n",
       "      <td>32.960000</td>\n",
       "      <td>583.660000</td>\n",
       "      <td>413.683200</td>\n",
       "    </tr>\n",
       "    <tr>\n",
       "      <th>max</th>\n",
       "      <td>1.044011e+07</td>\n",
       "      <td>43465.000000</td>\n",
       "      <td>48.000000</td>\n",
       "      <td>2048.030000</td>\n",
       "      <td>691.200000</td>\n",
       "    </tr>\n",
       "  </tbody>\n",
       "</table>\n",
       "</div>"
      ],
      "text/plain": [
       "       Transaction ID  Date of Travel   KM Travelled  Price Charged  \\\n",
       "count    3.593920e+05   359392.000000  359392.000000  359392.000000   \n",
       "mean     1.022076e+07    42964.067998      22.567254     423.443311   \n",
       "std      1.268058e+05      307.467197      12.233526     274.378911   \n",
       "min      1.000001e+07    42371.000000       1.900000      15.600000   \n",
       "25%      1.011081e+07    42697.000000      12.000000     206.437500   \n",
       "50%      1.022104e+07    42988.000000      22.440000     386.360000   \n",
       "75%      1.033094e+07    43232.000000      32.960000     583.660000   \n",
       "max      1.044011e+07    43465.000000      48.000000    2048.030000   \n",
       "\n",
       "        Cost of Trip  \n",
       "count  359392.000000  \n",
       "mean      286.190113  \n",
       "std       157.993661  \n",
       "min        19.000000  \n",
       "25%       151.200000  \n",
       "50%       282.480000  \n",
       "75%       413.683200  \n",
       "max       691.200000  "
      ]
     },
     "execution_count": 8,
     "metadata": {},
     "output_type": "execute_result"
    }
   ],
   "source": [
    "cab_data.describe()"
   ]
  },
  {
   "cell_type": "markdown",
   "metadata": {},
   "source": [
    "<font color=blue>city DataFrame\n",
    "</font>"
   ]
  },
  {
   "cell_type": "code",
   "execution_count": 3,
   "metadata": {},
   "outputs": [
    {
     "data": {
      "text/html": [
       "<div>\n",
       "<style scoped>\n",
       "    .dataframe tbody tr th:only-of-type {\n",
       "        vertical-align: middle;\n",
       "    }\n",
       "\n",
       "    .dataframe tbody tr th {\n",
       "        vertical-align: top;\n",
       "    }\n",
       "\n",
       "    .dataframe thead th {\n",
       "        text-align: right;\n",
       "    }\n",
       "</style>\n",
       "<table border=\"1\" class=\"dataframe\">\n",
       "  <thead>\n",
       "    <tr style=\"text-align: right;\">\n",
       "      <th></th>\n",
       "      <th>City</th>\n",
       "      <th>Population</th>\n",
       "      <th>Users</th>\n",
       "    </tr>\n",
       "  </thead>\n",
       "  <tbody>\n",
       "    <tr>\n",
       "      <th>0</th>\n",
       "      <td>NEW YORK NY</td>\n",
       "      <td>8,405,837</td>\n",
       "      <td>302,149</td>\n",
       "    </tr>\n",
       "    <tr>\n",
       "      <th>1</th>\n",
       "      <td>CHICAGO IL</td>\n",
       "      <td>1,955,130</td>\n",
       "      <td>164,468</td>\n",
       "    </tr>\n",
       "    <tr>\n",
       "      <th>2</th>\n",
       "      <td>LOS ANGELES CA</td>\n",
       "      <td>1,595,037</td>\n",
       "      <td>144,132</td>\n",
       "    </tr>\n",
       "  </tbody>\n",
       "</table>\n",
       "</div>"
      ],
      "text/plain": [
       "             City   Population      Users\n",
       "0     NEW YORK NY   8,405,837    302,149 \n",
       "1      CHICAGO IL   1,955,130    164,468 \n",
       "2  LOS ANGELES CA   1,595,037    144,132 "
      ]
     },
     "execution_count": 3,
     "metadata": {},
     "output_type": "execute_result"
    }
   ],
   "source": [
    "city = pd.read_csv(\"C:\\\\Users\\\\talfi\\\\python\\\\dataglacier\\\\w2\\\\DataSets-main\\\\City.csv\")\n",
    "city.head(3)"
   ]
  },
  {
   "cell_type": "markdown",
   "metadata": {},
   "source": [
    "<font color=red>Understand the field names and data types of city DataFrame\n",
    "</font> <br>\n",
    "To understand the field names, I imported CSV file. <br>\n",
    "**City** observation contains the list of US cities relevant to our case. cab_data df also has the city observation. This means that we are going to merge cab_data and city on City observation. <br>\n",
    "**Population** observation represents the population of each city. <br>\n",
    "**Users** observation represents the cab users' population from each city."
   ]
  },
  {
   "cell_type": "code",
   "execution_count": 11,
   "metadata": {},
   "outputs": [
    {
     "data": {
      "text/plain": [
       "(20, 3)"
      ]
     },
     "execution_count": 11,
     "metadata": {},
     "output_type": "execute_result"
    }
   ],
   "source": [
    "city.shape"
   ]
  },
  {
   "cell_type": "markdown",
   "metadata": {},
   "source": [
    "city df has 20 rows & 3 columns."
   ]
  },
  {
   "cell_type": "code",
   "execution_count": 12,
   "metadata": {
    "scrolled": true
   },
   "outputs": [
    {
     "data": {
      "text/plain": [
       "City          object\n",
       "Population    object\n",
       "Users         object\n",
       "dtype: object"
      ]
     },
     "execution_count": 12,
     "metadata": {},
     "output_type": "execute_result"
    }
   ],
   "source": [
    "city.dtypes"
   ]
  },
  {
   "cell_type": "markdown",
   "metadata": {},
   "source": [
    "To understand data types of city, I used Pandas' `.dtypes` function. <br>\n",
    "* Dtypes of all observations in the city dataframe are object. <br>"
   ]
  },
  {
   "cell_type": "markdown",
   "metadata": {},
   "source": [
    "Summary Statistics of city df"
   ]
  },
  {
   "cell_type": "code",
   "execution_count": 6,
   "metadata": {},
   "outputs": [
    {
     "data": {
      "text/html": [
       "<div>\n",
       "<style scoped>\n",
       "    .dataframe tbody tr th:only-of-type {\n",
       "        vertical-align: middle;\n",
       "    }\n",
       "\n",
       "    .dataframe tbody tr th {\n",
       "        vertical-align: top;\n",
       "    }\n",
       "\n",
       "    .dataframe thead th {\n",
       "        text-align: right;\n",
       "    }\n",
       "</style>\n",
       "<table border=\"1\" class=\"dataframe\">\n",
       "  <thead>\n",
       "    <tr style=\"text-align: right;\">\n",
       "      <th></th>\n",
       "      <th>City</th>\n",
       "      <th>Population</th>\n",
       "      <th>Users</th>\n",
       "    </tr>\n",
       "  </thead>\n",
       "  <tbody>\n",
       "    <tr>\n",
       "      <th>count</th>\n",
       "      <td>20</td>\n",
       "      <td>20</td>\n",
       "      <td>20</td>\n",
       "    </tr>\n",
       "    <tr>\n",
       "      <th>unique</th>\n",
       "      <td>20</td>\n",
       "      <td>20</td>\n",
       "      <td>20</td>\n",
       "    </tr>\n",
       "    <tr>\n",
       "      <th>top</th>\n",
       "      <td>PITTSBURGH PA</td>\n",
       "      <td>959,307</td>\n",
       "      <td>302,149</td>\n",
       "    </tr>\n",
       "    <tr>\n",
       "      <th>freq</th>\n",
       "      <td>1</td>\n",
       "      <td>1</td>\n",
       "      <td>1</td>\n",
       "    </tr>\n",
       "  </tbody>\n",
       "</table>\n",
       "</div>"
      ],
      "text/plain": [
       "                 City Population      Users\n",
       "count              20         20         20\n",
       "unique             20         20         20\n",
       "top     PITTSBURGH PA   959,307    302,149 \n",
       "freq                1          1          1"
      ]
     },
     "execution_count": 6,
     "metadata": {},
     "output_type": "execute_result"
    }
   ],
   "source": [
    "city.describe()"
   ]
  },
  {
   "cell_type": "markdown",
   "metadata": {},
   "source": [
    "<font color=blue>customer_id DataFrame\n",
    "</font>"
   ]
  },
  {
   "cell_type": "code",
   "execution_count": 4,
   "metadata": {
    "scrolled": true
   },
   "outputs": [
    {
     "data": {
      "text/html": [
       "<div>\n",
       "<style scoped>\n",
       "    .dataframe tbody tr th:only-of-type {\n",
       "        vertical-align: middle;\n",
       "    }\n",
       "\n",
       "    .dataframe tbody tr th {\n",
       "        vertical-align: top;\n",
       "    }\n",
       "\n",
       "    .dataframe thead th {\n",
       "        text-align: right;\n",
       "    }\n",
       "</style>\n",
       "<table border=\"1\" class=\"dataframe\">\n",
       "  <thead>\n",
       "    <tr style=\"text-align: right;\">\n",
       "      <th></th>\n",
       "      <th>Customer ID</th>\n",
       "      <th>Gender</th>\n",
       "      <th>Age</th>\n",
       "      <th>Income (USD/Month)</th>\n",
       "    </tr>\n",
       "  </thead>\n",
       "  <tbody>\n",
       "    <tr>\n",
       "      <th>0</th>\n",
       "      <td>29290</td>\n",
       "      <td>Male</td>\n",
       "      <td>28</td>\n",
       "      <td>10813</td>\n",
       "    </tr>\n",
       "    <tr>\n",
       "      <th>1</th>\n",
       "      <td>27703</td>\n",
       "      <td>Male</td>\n",
       "      <td>27</td>\n",
       "      <td>9237</td>\n",
       "    </tr>\n",
       "    <tr>\n",
       "      <th>2</th>\n",
       "      <td>28712</td>\n",
       "      <td>Male</td>\n",
       "      <td>53</td>\n",
       "      <td>11242</td>\n",
       "    </tr>\n",
       "  </tbody>\n",
       "</table>\n",
       "</div>"
      ],
      "text/plain": [
       "   Customer ID Gender  Age  Income (USD/Month)\n",
       "0        29290   Male   28               10813\n",
       "1        27703   Male   27                9237\n",
       "2        28712   Male   53               11242"
      ]
     },
     "execution_count": 4,
     "metadata": {},
     "output_type": "execute_result"
    }
   ],
   "source": [
    "customer_id = pd.read_csv(\"C:\\\\Users\\\\talfi\\\\python\\\\dataglacier\\\\w2\\\\DataSets-main\\\\Customer_ID.csv\")\n",
    "customer_id.head(3)"
   ]
  },
  {
   "cell_type": "markdown",
   "metadata": {},
   "source": [
    "<font color=red>Understand the field names and data types of customer_id DataFrame\n",
    "</font> <br>\n",
    "To understand the field names, I imported CSV file. <br>\n",
    "**Customer ID** observation represents the unique customer ID for each customer.<br>\n",
    "**Gender** observation represents the gender of each customer. <br>\n",
    "**Age** observation represents the age of each customer."
   ]
  },
  {
   "cell_type": "code",
   "execution_count": 15,
   "metadata": {},
   "outputs": [
    {
     "data": {
      "text/plain": [
       "(49171, 4)"
      ]
     },
     "execution_count": 15,
     "metadata": {},
     "output_type": "execute_result"
    }
   ],
   "source": [
    "customer_id.shape"
   ]
  },
  {
   "cell_type": "markdown",
   "metadata": {},
   "source": [
    "customer_id DataFrame has 49171 rows and 4 columns."
   ]
  },
  {
   "cell_type": "code",
   "execution_count": 16,
   "metadata": {},
   "outputs": [
    {
     "data": {
      "text/plain": [
       "Customer ID            int64\n",
       "Gender                object\n",
       "Age                    int64\n",
       "Income (USD/Month)     int64\n",
       "dtype: object"
      ]
     },
     "execution_count": 16,
     "metadata": {},
     "output_type": "execute_result"
    }
   ],
   "source": [
    "customer_id.dtypes"
   ]
  },
  {
   "cell_type": "markdown",
   "metadata": {},
   "source": [
    "To understand data types of customer_id, I used Pandas' `.dtypes` function. <br>\n",
    "* Dtypes of Customer ID, Age, and Income observations' are int64, <br>\n",
    "* Dtype of Gender observation is object. <br> "
   ]
  },
  {
   "cell_type": "markdown",
   "metadata": {},
   "source": [
    "<font color=blue>transaction_id DataFrame\n",
    "</font>"
   ]
  },
  {
   "cell_type": "code",
   "execution_count": 5,
   "metadata": {
    "scrolled": true
   },
   "outputs": [
    {
     "data": {
      "text/html": [
       "<div>\n",
       "<style scoped>\n",
       "    .dataframe tbody tr th:only-of-type {\n",
       "        vertical-align: middle;\n",
       "    }\n",
       "\n",
       "    .dataframe tbody tr th {\n",
       "        vertical-align: top;\n",
       "    }\n",
       "\n",
       "    .dataframe thead th {\n",
       "        text-align: right;\n",
       "    }\n",
       "</style>\n",
       "<table border=\"1\" class=\"dataframe\">\n",
       "  <thead>\n",
       "    <tr style=\"text-align: right;\">\n",
       "      <th></th>\n",
       "      <th>Transaction ID</th>\n",
       "      <th>Customer ID</th>\n",
       "      <th>Payment_Mode</th>\n",
       "    </tr>\n",
       "  </thead>\n",
       "  <tbody>\n",
       "    <tr>\n",
       "      <th>0</th>\n",
       "      <td>10000011</td>\n",
       "      <td>29290</td>\n",
       "      <td>Card</td>\n",
       "    </tr>\n",
       "    <tr>\n",
       "      <th>1</th>\n",
       "      <td>10000012</td>\n",
       "      <td>27703</td>\n",
       "      <td>Card</td>\n",
       "    </tr>\n",
       "    <tr>\n",
       "      <th>2</th>\n",
       "      <td>10000013</td>\n",
       "      <td>28712</td>\n",
       "      <td>Cash</td>\n",
       "    </tr>\n",
       "  </tbody>\n",
       "</table>\n",
       "</div>"
      ],
      "text/plain": [
       "   Transaction ID  Customer ID Payment_Mode\n",
       "0        10000011        29290         Card\n",
       "1        10000012        27703         Card\n",
       "2        10000013        28712         Cash"
      ]
     },
     "execution_count": 5,
     "metadata": {},
     "output_type": "execute_result"
    }
   ],
   "source": [
    "transaction_id = pd.read_csv(\"C:\\\\Users\\\\talfi\\\\python\\\\dataglacier\\\\w2\\\\DataSets-main\\\\Transaction_ID.csv\")\n",
    "transaction_id.head(3)"
   ]
  },
  {
   "cell_type": "markdown",
   "metadata": {},
   "source": [
    "<font color=red>Understand the field names and data types of transaction_id DataFrame\n",
    "</font> <br>\n",
    "To understand the field names, I imported CSV file. <br>\n",
    "**Transaction ID** observation represents the unique transaction id for each trip. cab_data also has Transaction ID, thus transaction_id and cab_data DataFrames can be merged on Transaction ID column <br>\n",
    "**Customer ID** observation represents the unique customer ID for each customer. customer_id also has Customer_ID observation hence we are going to merge these two DataFrames on Customer ID column.<br>\n",
    "**Payment_Mode** observation represents the payment mode for each transaction. It can either be Cash or Card."
   ]
  },
  {
   "cell_type": "code",
   "execution_count": 18,
   "metadata": {},
   "outputs": [
    {
     "data": {
      "text/plain": [
       "(440098, 3)"
      ]
     },
     "execution_count": 18,
     "metadata": {},
     "output_type": "execute_result"
    }
   ],
   "source": [
    "transaction_id.shape"
   ]
  },
  {
   "cell_type": "markdown",
   "metadata": {},
   "source": [
    "transaction_id DataFrame has 440098 rows and 3 columns."
   ]
  },
  {
   "cell_type": "code",
   "execution_count": 21,
   "metadata": {
    "scrolled": true
   },
   "outputs": [
    {
     "data": {
      "text/plain": [
       "Transaction ID     int64\n",
       "Customer ID        int64\n",
       "Payment_Mode      object\n",
       "dtype: object"
      ]
     },
     "execution_count": 21,
     "metadata": {},
     "output_type": "execute_result"
    }
   ],
   "source": [
    "transaction_id.dtypes"
   ]
  },
  {
   "cell_type": "markdown",
   "metadata": {},
   "source": [
    "To understand data types of transaction_id, I used Pandas' `.dtypes` function. <br>\n",
    "* Dtypes of Customer ID, and Transaction ID observations' are int64, <br>\n",
    "* Dtype of Payment_Mode observaiton is object. <br> "
   ]
  },
  {
   "cell_type": "markdown",
   "metadata": {},
   "source": [
    "<font color=red>Identify relationships across the files\n",
    "</font> <br>\n",
    "* **customer_id** DataFrame includes the customer related knowledge such as `Customer_ID`, `Age`, `Income` and `Gender`. Moreover, **transaction_id** DataFrame contains of transaction related knowledge such as `Customer_ID`, `Payment_Mode` and `Transaction_ID`. These two DataFrames are related with `Customer ID` observation.\n",
    "* **cab_data** DataFrame includes the trip related knowledge such as `Transaction ID` of the trip, `Date of Travel`, `KM Travelled` during the trip, `Price Charged`for each trip, `Cost of Trip`, `Company` that each cab belongs to, and `City` that trip was made. In the meantime, **city** DataFrame is all about city related knowledge like `City` of the trip,\t`Population`of that city,\tPink and Yellow Cab Company `Users` within the city. In this case, **cab_data** and **city** DataFrames are related with `City`observation.\n",
    "\t"
   ]
  },
  {
   "cell_type": "markdown",
   "metadata": {},
   "source": [
    "<font color=red>Determine which files should be joined versus which ones should be appended\n",
    "</font> <br>\n",
    "* Instead of `pd.join`, I am going to use `pd.merge` to merge DataFrames because every DataFrame has one common column. In join, I need to state the same column with lsuffix and rsuffix.(https://stackoverflow.com/a/54955652/13852388) This will create extra burden so I am not going to do it.\n",
    "* Instead of `pd.append`, I am going to use `pd.merge` because there is no `on` option of `pd.append`(https://pandas.pydata.org/pandas-docs/stable/reference/api/pandas.DataFrame.append.html) . This will cause double print of same columns. Revealing same data is just a burden for our merged DataFrames. \n",
    "* **customer_id** DataFrame and **transaction_id** DataFrames both have `Customer_ID` observation. Thus, we are going to merge these two DataFrames on `Customer_ID` observation and name this merge as `merge_1`\n",
    "* **cab_data** and **city** DataFrames both have`City` observation. Hence, we are going to merge these two DataFrames on `City`observation and name it as `merge_2`"
   ]
  },
  {
   "cell_type": "markdown",
   "metadata": {},
   "source": [
    "#### MERGE 1"
   ]
  },
  {
   "cell_type": "code",
   "execution_count": 6,
   "metadata": {
    "scrolled": true
   },
   "outputs": [
    {
     "data": {
      "text/html": [
       "<div>\n",
       "<style scoped>\n",
       "    .dataframe tbody tr th:only-of-type {\n",
       "        vertical-align: middle;\n",
       "    }\n",
       "\n",
       "    .dataframe tbody tr th {\n",
       "        vertical-align: top;\n",
       "    }\n",
       "\n",
       "    .dataframe thead th {\n",
       "        text-align: right;\n",
       "    }\n",
       "</style>\n",
       "<table border=\"1\" class=\"dataframe\">\n",
       "  <thead>\n",
       "    <tr style=\"text-align: right;\">\n",
       "      <th></th>\n",
       "      <th>Customer ID</th>\n",
       "      <th>Gender</th>\n",
       "      <th>Age</th>\n",
       "      <th>Income (USD/Month)</th>\n",
       "      <th>Transaction ID</th>\n",
       "      <th>Payment_Mode</th>\n",
       "    </tr>\n",
       "  </thead>\n",
       "  <tbody>\n",
       "    <tr>\n",
       "      <th>0</th>\n",
       "      <td>29290</td>\n",
       "      <td>Male</td>\n",
       "      <td>28</td>\n",
       "      <td>10813</td>\n",
       "      <td>10000011</td>\n",
       "      <td>Card</td>\n",
       "    </tr>\n",
       "    <tr>\n",
       "      <th>1</th>\n",
       "      <td>29290</td>\n",
       "      <td>Male</td>\n",
       "      <td>28</td>\n",
       "      <td>10813</td>\n",
       "      <td>10351127</td>\n",
       "      <td>Cash</td>\n",
       "    </tr>\n",
       "    <tr>\n",
       "      <th>2</th>\n",
       "      <td>29290</td>\n",
       "      <td>Male</td>\n",
       "      <td>28</td>\n",
       "      <td>10813</td>\n",
       "      <td>10412921</td>\n",
       "      <td>Card</td>\n",
       "    </tr>\n",
       "    <tr>\n",
       "      <th>3</th>\n",
       "      <td>27703</td>\n",
       "      <td>Male</td>\n",
       "      <td>27</td>\n",
       "      <td>9237</td>\n",
       "      <td>10000012</td>\n",
       "      <td>Card</td>\n",
       "    </tr>\n",
       "    <tr>\n",
       "      <th>4</th>\n",
       "      <td>27703</td>\n",
       "      <td>Male</td>\n",
       "      <td>27</td>\n",
       "      <td>9237</td>\n",
       "      <td>10320494</td>\n",
       "      <td>Card</td>\n",
       "    </tr>\n",
       "    <tr>\n",
       "      <th>...</th>\n",
       "      <td>...</td>\n",
       "      <td>...</td>\n",
       "      <td>...</td>\n",
       "      <td>...</td>\n",
       "      <td>...</td>\n",
       "      <td>...</td>\n",
       "    </tr>\n",
       "    <tr>\n",
       "      <th>440093</th>\n",
       "      <td>12490</td>\n",
       "      <td>Male</td>\n",
       "      <td>33</td>\n",
       "      <td>18713</td>\n",
       "      <td>10439799</td>\n",
       "      <td>Cash</td>\n",
       "    </tr>\n",
       "    <tr>\n",
       "      <th>440094</th>\n",
       "      <td>14971</td>\n",
       "      <td>Male</td>\n",
       "      <td>30</td>\n",
       "      <td>15346</td>\n",
       "      <td>10439820</td>\n",
       "      <td>Card</td>\n",
       "    </tr>\n",
       "    <tr>\n",
       "      <th>440095</th>\n",
       "      <td>41414</td>\n",
       "      <td>Male</td>\n",
       "      <td>38</td>\n",
       "      <td>3960</td>\n",
       "      <td>10439838</td>\n",
       "      <td>Card</td>\n",
       "    </tr>\n",
       "    <tr>\n",
       "      <th>440096</th>\n",
       "      <td>41677</td>\n",
       "      <td>Male</td>\n",
       "      <td>23</td>\n",
       "      <td>19454</td>\n",
       "      <td>10439840</td>\n",
       "      <td>Cash</td>\n",
       "    </tr>\n",
       "    <tr>\n",
       "      <th>440097</th>\n",
       "      <td>39761</td>\n",
       "      <td>Female</td>\n",
       "      <td>32</td>\n",
       "      <td>10128</td>\n",
       "      <td>10439846</td>\n",
       "      <td>Card</td>\n",
       "    </tr>\n",
       "  </tbody>\n",
       "</table>\n",
       "<p>440098 rows × 6 columns</p>\n",
       "</div>"
      ],
      "text/plain": [
       "        Customer ID  Gender  Age  Income (USD/Month)  Transaction ID  \\\n",
       "0             29290    Male   28               10813        10000011   \n",
       "1             29290    Male   28               10813        10351127   \n",
       "2             29290    Male   28               10813        10412921   \n",
       "3             27703    Male   27                9237        10000012   \n",
       "4             27703    Male   27                9237        10320494   \n",
       "...             ...     ...  ...                 ...             ...   \n",
       "440093        12490    Male   33               18713        10439799   \n",
       "440094        14971    Male   30               15346        10439820   \n",
       "440095        41414    Male   38                3960        10439838   \n",
       "440096        41677    Male   23               19454        10439840   \n",
       "440097        39761  Female   32               10128        10439846   \n",
       "\n",
       "       Payment_Mode  \n",
       "0              Card  \n",
       "1              Cash  \n",
       "2              Card  \n",
       "3              Card  \n",
       "4              Card  \n",
       "...             ...  \n",
       "440093         Cash  \n",
       "440094         Card  \n",
       "440095         Card  \n",
       "440096         Cash  \n",
       "440097         Card  \n",
       "\n",
       "[440098 rows x 6 columns]"
      ]
     },
     "execution_count": 6,
     "metadata": {},
     "output_type": "execute_result"
    }
   ],
   "source": [
    "merge_1 = customer_id.merge(transaction_id, on=\"Customer ID\", how = \"outer\")\n",
    "merge_1"
   ]
  },
  {
   "cell_type": "markdown",
   "metadata": {},
   "source": [
    "#### MERGE 2"
   ]
  },
  {
   "cell_type": "code",
   "execution_count": 7,
   "metadata": {
    "scrolled": true
   },
   "outputs": [
    {
     "data": {
      "text/html": [
       "<div>\n",
       "<style scoped>\n",
       "    .dataframe tbody tr th:only-of-type {\n",
       "        vertical-align: middle;\n",
       "    }\n",
       "\n",
       "    .dataframe tbody tr th {\n",
       "        vertical-align: top;\n",
       "    }\n",
       "\n",
       "    .dataframe thead th {\n",
       "        text-align: right;\n",
       "    }\n",
       "</style>\n",
       "<table border=\"1\" class=\"dataframe\">\n",
       "  <thead>\n",
       "    <tr style=\"text-align: right;\">\n",
       "      <th></th>\n",
       "      <th>Transaction ID</th>\n",
       "      <th>Date of Travel</th>\n",
       "      <th>Company</th>\n",
       "      <th>City</th>\n",
       "      <th>KM Travelled</th>\n",
       "      <th>Price Charged</th>\n",
       "      <th>Cost of Trip</th>\n",
       "      <th>Population</th>\n",
       "      <th>Users</th>\n",
       "    </tr>\n",
       "  </thead>\n",
       "  <tbody>\n",
       "    <tr>\n",
       "      <th>0</th>\n",
       "      <td>10000011.0</td>\n",
       "      <td>42377.0</td>\n",
       "      <td>Pink Cab</td>\n",
       "      <td>ATLANTA GA</td>\n",
       "      <td>30.45</td>\n",
       "      <td>370.95</td>\n",
       "      <td>313.6350</td>\n",
       "      <td>814,885</td>\n",
       "      <td>24,701</td>\n",
       "    </tr>\n",
       "    <tr>\n",
       "      <th>1</th>\n",
       "      <td>10000012.0</td>\n",
       "      <td>42375.0</td>\n",
       "      <td>Pink Cab</td>\n",
       "      <td>ATLANTA GA</td>\n",
       "      <td>28.62</td>\n",
       "      <td>358.52</td>\n",
       "      <td>334.8540</td>\n",
       "      <td>814,885</td>\n",
       "      <td>24,701</td>\n",
       "    </tr>\n",
       "    <tr>\n",
       "      <th>2</th>\n",
       "      <td>10000013.0</td>\n",
       "      <td>42371.0</td>\n",
       "      <td>Pink Cab</td>\n",
       "      <td>ATLANTA GA</td>\n",
       "      <td>9.04</td>\n",
       "      <td>125.20</td>\n",
       "      <td>97.6320</td>\n",
       "      <td>814,885</td>\n",
       "      <td>24,701</td>\n",
       "    </tr>\n",
       "    <tr>\n",
       "      <th>3</th>\n",
       "      <td>10000014.0</td>\n",
       "      <td>42376.0</td>\n",
       "      <td>Pink Cab</td>\n",
       "      <td>ATLANTA GA</td>\n",
       "      <td>33.17</td>\n",
       "      <td>377.40</td>\n",
       "      <td>351.6020</td>\n",
       "      <td>814,885</td>\n",
       "      <td>24,701</td>\n",
       "    </tr>\n",
       "    <tr>\n",
       "      <th>4</th>\n",
       "      <td>10000015.0</td>\n",
       "      <td>42372.0</td>\n",
       "      <td>Pink Cab</td>\n",
       "      <td>ATLANTA GA</td>\n",
       "      <td>8.73</td>\n",
       "      <td>114.62</td>\n",
       "      <td>97.7760</td>\n",
       "      <td>814,885</td>\n",
       "      <td>24,701</td>\n",
       "    </tr>\n",
       "    <tr>\n",
       "      <th>...</th>\n",
       "      <td>...</td>\n",
       "      <td>...</td>\n",
       "      <td>...</td>\n",
       "      <td>...</td>\n",
       "      <td>...</td>\n",
       "      <td>...</td>\n",
       "      <td>...</td>\n",
       "      <td>...</td>\n",
       "      <td>...</td>\n",
       "    </tr>\n",
       "    <tr>\n",
       "      <th>359388</th>\n",
       "      <td>10440104.0</td>\n",
       "      <td>43104.0</td>\n",
       "      <td>Yellow Cab</td>\n",
       "      <td>WASHINGTON DC</td>\n",
       "      <td>8.40</td>\n",
       "      <td>113.75</td>\n",
       "      <td>106.8480</td>\n",
       "      <td>418,859</td>\n",
       "      <td>127,001</td>\n",
       "    </tr>\n",
       "    <tr>\n",
       "      <th>359389</th>\n",
       "      <td>10440105.0</td>\n",
       "      <td>43105.0</td>\n",
       "      <td>Yellow Cab</td>\n",
       "      <td>WASHINGTON DC</td>\n",
       "      <td>27.75</td>\n",
       "      <td>437.07</td>\n",
       "      <td>349.6500</td>\n",
       "      <td>418,859</td>\n",
       "      <td>127,001</td>\n",
       "    </tr>\n",
       "    <tr>\n",
       "      <th>359390</th>\n",
       "      <td>10440106.0</td>\n",
       "      <td>43105.0</td>\n",
       "      <td>Yellow Cab</td>\n",
       "      <td>WASHINGTON DC</td>\n",
       "      <td>8.80</td>\n",
       "      <td>146.19</td>\n",
       "      <td>114.0480</td>\n",
       "      <td>418,859</td>\n",
       "      <td>127,001</td>\n",
       "    </tr>\n",
       "    <tr>\n",
       "      <th>359391</th>\n",
       "      <td>10440107.0</td>\n",
       "      <td>43102.0</td>\n",
       "      <td>Yellow Cab</td>\n",
       "      <td>WASHINGTON DC</td>\n",
       "      <td>12.76</td>\n",
       "      <td>191.58</td>\n",
       "      <td>177.6192</td>\n",
       "      <td>418,859</td>\n",
       "      <td>127,001</td>\n",
       "    </tr>\n",
       "    <tr>\n",
       "      <th>359392</th>\n",
       "      <td>NaN</td>\n",
       "      <td>NaN</td>\n",
       "      <td>NaN</td>\n",
       "      <td>SAN FRANCISCO CA</td>\n",
       "      <td>NaN</td>\n",
       "      <td>NaN</td>\n",
       "      <td>NaN</td>\n",
       "      <td>629,591</td>\n",
       "      <td>213,609</td>\n",
       "    </tr>\n",
       "  </tbody>\n",
       "</table>\n",
       "<p>359393 rows × 9 columns</p>\n",
       "</div>"
      ],
      "text/plain": [
       "        Transaction ID  Date of Travel     Company              City  \\\n",
       "0           10000011.0         42377.0    Pink Cab        ATLANTA GA   \n",
       "1           10000012.0         42375.0    Pink Cab        ATLANTA GA   \n",
       "2           10000013.0         42371.0    Pink Cab        ATLANTA GA   \n",
       "3           10000014.0         42376.0    Pink Cab        ATLANTA GA   \n",
       "4           10000015.0         42372.0    Pink Cab        ATLANTA GA   \n",
       "...                ...             ...         ...               ...   \n",
       "359388      10440104.0         43104.0  Yellow Cab     WASHINGTON DC   \n",
       "359389      10440105.0         43105.0  Yellow Cab     WASHINGTON DC   \n",
       "359390      10440106.0         43105.0  Yellow Cab     WASHINGTON DC   \n",
       "359391      10440107.0         43102.0  Yellow Cab     WASHINGTON DC   \n",
       "359392             NaN             NaN         NaN  SAN FRANCISCO CA   \n",
       "\n",
       "        KM Travelled  Price Charged  Cost of Trip Population      Users  \n",
       "0              30.45         370.95      313.6350   814,885     24,701   \n",
       "1              28.62         358.52      334.8540   814,885     24,701   \n",
       "2               9.04         125.20       97.6320   814,885     24,701   \n",
       "3              33.17         377.40      351.6020   814,885     24,701   \n",
       "4               8.73         114.62       97.7760   814,885     24,701   \n",
       "...              ...            ...           ...        ...        ...  \n",
       "359388          8.40         113.75      106.8480   418,859    127,001   \n",
       "359389         27.75         437.07      349.6500   418,859    127,001   \n",
       "359390          8.80         146.19      114.0480   418,859    127,001   \n",
       "359391         12.76         191.58      177.6192   418,859    127,001   \n",
       "359392           NaN            NaN           NaN   629,591    213,609   \n",
       "\n",
       "[359393 rows x 9 columns]"
      ]
     },
     "execution_count": 7,
     "metadata": {},
     "output_type": "execute_result"
    }
   ],
   "source": [
    "merge_2 = cab_data.merge(city, on = \"City\", how = \"outer\")\n",
    "merge_2"
   ]
  },
  {
   "cell_type": "markdown",
   "metadata": {},
   "source": [
    "<font color=red>Create master data and explain the relationship\n",
    "</font> <br>\n",
    "To create master data, I am going to merge `merge_1` and `merge_2` DataFrames and create `merge_3` : the master data. <br>\n",
    "`merge_3` will include \n",
    "* `Customer_ID`, `Age`, `Income` and `Gender`observations from `customer_id` DataFrame,\n",
    "* `Customer_ID`, `Payment_Mode` and `Transaction_ID` observations from `transaction_id` DataFrame,\n",
    "* `Transaction ID` , `Date of Travel`, `KM Travelled` , `Price Charged`, `Cost of Trip`, `Company`  and `City` observations from `cab_data` DataFrame, \n",
    "* and `City`,`Population`,\t `Users` observations from `city` DataFrame.\n",
    "* As I merged these DataFrames on the same observation, there will be no duplicated values. Thus, there will be no need for <font color=red>Identify and remove duplicates\n",
    "</font>  step."
   ]
  },
  {
   "cell_type": "markdown",
   "metadata": {},
   "source": [
    "#### MERGE 3"
   ]
  },
  {
   "cell_type": "code",
   "execution_count": 72,
   "metadata": {
    "scrolled": true
   },
   "outputs": [
    {
     "data": {
      "text/html": [
       "<div>\n",
       "<style scoped>\n",
       "    .dataframe tbody tr th:only-of-type {\n",
       "        vertical-align: middle;\n",
       "    }\n",
       "\n",
       "    .dataframe tbody tr th {\n",
       "        vertical-align: top;\n",
       "    }\n",
       "\n",
       "    .dataframe thead th {\n",
       "        text-align: right;\n",
       "    }\n",
       "</style>\n",
       "<table border=\"1\" class=\"dataframe\">\n",
       "  <thead>\n",
       "    <tr style=\"text-align: right;\">\n",
       "      <th></th>\n",
       "      <th>Transaction ID</th>\n",
       "      <th>Date of Travel</th>\n",
       "      <th>Company</th>\n",
       "      <th>City</th>\n",
       "      <th>KM Travelled</th>\n",
       "      <th>Price Charged</th>\n",
       "      <th>Cost of Trip</th>\n",
       "      <th>Population</th>\n",
       "      <th>Users</th>\n",
       "      <th>Customer ID</th>\n",
       "      <th>Gender</th>\n",
       "      <th>Age</th>\n",
       "      <th>Income (USD/Month)</th>\n",
       "      <th>Payment_Mode</th>\n",
       "    </tr>\n",
       "  </thead>\n",
       "  <tbody>\n",
       "    <tr>\n",
       "      <th>0</th>\n",
       "      <td>10000011.0</td>\n",
       "      <td>42377.0</td>\n",
       "      <td>Pink Cab</td>\n",
       "      <td>ATLANTA GA</td>\n",
       "      <td>30.45</td>\n",
       "      <td>370.95</td>\n",
       "      <td>313.635</td>\n",
       "      <td>814,885</td>\n",
       "      <td>24,701</td>\n",
       "      <td>29290.0</td>\n",
       "      <td>Male</td>\n",
       "      <td>28.0</td>\n",
       "      <td>10813.0</td>\n",
       "      <td>Card</td>\n",
       "    </tr>\n",
       "    <tr>\n",
       "      <th>1</th>\n",
       "      <td>10000012.0</td>\n",
       "      <td>42375.0</td>\n",
       "      <td>Pink Cab</td>\n",
       "      <td>ATLANTA GA</td>\n",
       "      <td>28.62</td>\n",
       "      <td>358.52</td>\n",
       "      <td>334.854</td>\n",
       "      <td>814,885</td>\n",
       "      <td>24,701</td>\n",
       "      <td>27703.0</td>\n",
       "      <td>Male</td>\n",
       "      <td>27.0</td>\n",
       "      <td>9237.0</td>\n",
       "      <td>Card</td>\n",
       "    </tr>\n",
       "    <tr>\n",
       "      <th>2</th>\n",
       "      <td>10000013.0</td>\n",
       "      <td>42371.0</td>\n",
       "      <td>Pink Cab</td>\n",
       "      <td>ATLANTA GA</td>\n",
       "      <td>9.04</td>\n",
       "      <td>125.20</td>\n",
       "      <td>97.632</td>\n",
       "      <td>814,885</td>\n",
       "      <td>24,701</td>\n",
       "      <td>28712.0</td>\n",
       "      <td>Male</td>\n",
       "      <td>53.0</td>\n",
       "      <td>11242.0</td>\n",
       "      <td>Cash</td>\n",
       "    </tr>\n",
       "    <tr>\n",
       "      <th>3</th>\n",
       "      <td>10000014.0</td>\n",
       "      <td>42376.0</td>\n",
       "      <td>Pink Cab</td>\n",
       "      <td>ATLANTA GA</td>\n",
       "      <td>33.17</td>\n",
       "      <td>377.40</td>\n",
       "      <td>351.602</td>\n",
       "      <td>814,885</td>\n",
       "      <td>24,701</td>\n",
       "      <td>28020.0</td>\n",
       "      <td>Male</td>\n",
       "      <td>23.0</td>\n",
       "      <td>23327.0</td>\n",
       "      <td>Cash</td>\n",
       "    </tr>\n",
       "    <tr>\n",
       "      <th>4</th>\n",
       "      <td>10000015.0</td>\n",
       "      <td>42372.0</td>\n",
       "      <td>Pink Cab</td>\n",
       "      <td>ATLANTA GA</td>\n",
       "      <td>8.73</td>\n",
       "      <td>114.62</td>\n",
       "      <td>97.776</td>\n",
       "      <td>814,885</td>\n",
       "      <td>24,701</td>\n",
       "      <td>27182.0</td>\n",
       "      <td>Male</td>\n",
       "      <td>33.0</td>\n",
       "      <td>8536.0</td>\n",
       "      <td>Card</td>\n",
       "    </tr>\n",
       "    <tr>\n",
       "      <th>...</th>\n",
       "      <td>...</td>\n",
       "      <td>...</td>\n",
       "      <td>...</td>\n",
       "      <td>...</td>\n",
       "      <td>...</td>\n",
       "      <td>...</td>\n",
       "      <td>...</td>\n",
       "      <td>...</td>\n",
       "      <td>...</td>\n",
       "      <td>...</td>\n",
       "      <td>...</td>\n",
       "      <td>...</td>\n",
       "      <td>...</td>\n",
       "      <td>...</td>\n",
       "    </tr>\n",
       "    <tr>\n",
       "      <th>440094</th>\n",
       "      <td>10439406.0</td>\n",
       "      <td>NaN</td>\n",
       "      <td>NaN</td>\n",
       "      <td>NaN</td>\n",
       "      <td>NaN</td>\n",
       "      <td>NaN</td>\n",
       "      <td>NaN</td>\n",
       "      <td>NaN</td>\n",
       "      <td>NaN</td>\n",
       "      <td>23382.0</td>\n",
       "      <td>Female</td>\n",
       "      <td>51.0</td>\n",
       "      <td>18919.0</td>\n",
       "      <td>Card</td>\n",
       "    </tr>\n",
       "    <tr>\n",
       "      <th>440095</th>\n",
       "      <td>10439409.0</td>\n",
       "      <td>NaN</td>\n",
       "      <td>NaN</td>\n",
       "      <td>NaN</td>\n",
       "      <td>NaN</td>\n",
       "      <td>NaN</td>\n",
       "      <td>NaN</td>\n",
       "      <td>NaN</td>\n",
       "      <td>NaN</td>\n",
       "      <td>21420.0</td>\n",
       "      <td>Female</td>\n",
       "      <td>18.0</td>\n",
       "      <td>4531.0</td>\n",
       "      <td>Card</td>\n",
       "    </tr>\n",
       "    <tr>\n",
       "      <th>440096</th>\n",
       "      <td>10439413.0</td>\n",
       "      <td>NaN</td>\n",
       "      <td>NaN</td>\n",
       "      <td>NaN</td>\n",
       "      <td>NaN</td>\n",
       "      <td>NaN</td>\n",
       "      <td>NaN</td>\n",
       "      <td>NaN</td>\n",
       "      <td>NaN</td>\n",
       "      <td>49888.0</td>\n",
       "      <td>Male</td>\n",
       "      <td>23.0</td>\n",
       "      <td>3226.0</td>\n",
       "      <td>Card</td>\n",
       "    </tr>\n",
       "    <tr>\n",
       "      <th>440097</th>\n",
       "      <td>10439418.0</td>\n",
       "      <td>NaN</td>\n",
       "      <td>NaN</td>\n",
       "      <td>NaN</td>\n",
       "      <td>NaN</td>\n",
       "      <td>NaN</td>\n",
       "      <td>NaN</td>\n",
       "      <td>NaN</td>\n",
       "      <td>NaN</td>\n",
       "      <td>46456.0</td>\n",
       "      <td>Male</td>\n",
       "      <td>20.0</td>\n",
       "      <td>30662.0</td>\n",
       "      <td>Cash</td>\n",
       "    </tr>\n",
       "    <tr>\n",
       "      <th>440098</th>\n",
       "      <td>10439820.0</td>\n",
       "      <td>NaN</td>\n",
       "      <td>NaN</td>\n",
       "      <td>NaN</td>\n",
       "      <td>NaN</td>\n",
       "      <td>NaN</td>\n",
       "      <td>NaN</td>\n",
       "      <td>NaN</td>\n",
       "      <td>NaN</td>\n",
       "      <td>14971.0</td>\n",
       "      <td>Male</td>\n",
       "      <td>30.0</td>\n",
       "      <td>15346.0</td>\n",
       "      <td>Card</td>\n",
       "    </tr>\n",
       "  </tbody>\n",
       "</table>\n",
       "<p>440099 rows × 14 columns</p>\n",
       "</div>"
      ],
      "text/plain": [
       "        Transaction ID  Date of Travel   Company        City  KM Travelled  \\\n",
       "0           10000011.0         42377.0  Pink Cab  ATLANTA GA         30.45   \n",
       "1           10000012.0         42375.0  Pink Cab  ATLANTA GA         28.62   \n",
       "2           10000013.0         42371.0  Pink Cab  ATLANTA GA          9.04   \n",
       "3           10000014.0         42376.0  Pink Cab  ATLANTA GA         33.17   \n",
       "4           10000015.0         42372.0  Pink Cab  ATLANTA GA          8.73   \n",
       "...                ...             ...       ...         ...           ...   \n",
       "440094      10439406.0             NaN       NaN         NaN           NaN   \n",
       "440095      10439409.0             NaN       NaN         NaN           NaN   \n",
       "440096      10439413.0             NaN       NaN         NaN           NaN   \n",
       "440097      10439418.0             NaN       NaN         NaN           NaN   \n",
       "440098      10439820.0             NaN       NaN         NaN           NaN   \n",
       "\n",
       "        Price Charged  Cost of Trip Population     Users  Customer ID  Gender  \\\n",
       "0              370.95       313.635   814,885    24,701       29290.0    Male   \n",
       "1              358.52       334.854   814,885    24,701       27703.0    Male   \n",
       "2              125.20        97.632   814,885    24,701       28712.0    Male   \n",
       "3              377.40       351.602   814,885    24,701       28020.0    Male   \n",
       "4              114.62        97.776   814,885    24,701       27182.0    Male   \n",
       "...               ...           ...        ...       ...          ...     ...   \n",
       "440094            NaN           NaN        NaN       NaN      23382.0  Female   \n",
       "440095            NaN           NaN        NaN       NaN      21420.0  Female   \n",
       "440096            NaN           NaN        NaN       NaN      49888.0    Male   \n",
       "440097            NaN           NaN        NaN       NaN      46456.0    Male   \n",
       "440098            NaN           NaN        NaN       NaN      14971.0    Male   \n",
       "\n",
       "         Age  Income (USD/Month) Payment_Mode  \n",
       "0       28.0             10813.0         Card  \n",
       "1       27.0              9237.0         Card  \n",
       "2       53.0             11242.0         Cash  \n",
       "3       23.0             23327.0         Cash  \n",
       "4       33.0              8536.0         Card  \n",
       "...      ...                 ...          ...  \n",
       "440094  51.0             18919.0         Card  \n",
       "440095  18.0              4531.0         Card  \n",
       "440096  23.0              3226.0         Card  \n",
       "440097  20.0             30662.0         Cash  \n",
       "440098  30.0             15346.0         Card  \n",
       "\n",
       "[440099 rows x 14 columns]"
      ]
     },
     "execution_count": 72,
     "metadata": {},
     "output_type": "execute_result"
    }
   ],
   "source": [
    "merge_3 = merge_2.merge(merge_1,on= \"Transaction ID\",how = \"outer\")\n",
    "merge_3"
   ]
  },
  {
   "cell_type": "code",
   "execution_count": 73,
   "metadata": {},
   "outputs": [
    {
     "data": {
      "text/plain": [
       "Yellow Cab    274681\n",
       "Pink Cab       84711\n",
       "Name: Company, dtype: int64"
      ]
     },
     "execution_count": 73,
     "metadata": {},
     "output_type": "execute_result"
    }
   ],
   "source": [
    "merge_3[\"Company\"].value_counts()"
   ]
  },
  {
   "cell_type": "markdown",
   "metadata": {},
   "source": [
    "<font color=red>Feature transformation\n",
    "</font> <br>\n",
    "I am going to make feature transformation in 5 steps. In the feature transformation, I referanced this article(https://towardsdatascience.com/feature-transformation-for-data-scientists-3a9eed562752) from the towardsdatascience \n",
    "1. **Data Imputation**\n",
    "In this step, I'll detect and replace the NA values. In other words, I'll make <font color=red>NA Value Analyse\n",
    "</font> To analyse NA Values, `pd.fillna()` could be used. However, `pd.fillna()`only replace NA values with one data type, and this is not useful our case because our master data(merge_3) includes more than one data type. `pd.fillna()` can also cause errors for some ML Algorithms. Thus, my choice will be Sklearns `SimpleImputer`. <br>\n",
    "SimpleImputer is a scikit-learn class which is helpful in handling the missing data in the predictive model dataset. It replaces the NaN values with a specified placeholder. In this case, we'll replace our NaN values with using the mean along each column. <br>"
   ]
  },
  {
   "cell_type": "code",
   "execution_count": 9,
   "metadata": {},
   "outputs": [],
   "source": [
    "from sklearn.impute import SimpleImputer"
   ]
  },
  {
   "cell_type": "code",
   "execution_count": 83,
   "metadata": {},
   "outputs": [],
   "source": [
    "imr = SimpleImputer(missing_values=np.nan, strategy='most_frequent')\n",
    "\n",
    "imr = imr.fit(merge_3)"
   ]
  },
  {
   "cell_type": "code",
   "execution_count": 84,
   "metadata": {},
   "outputs": [],
   "source": [
    "imputed_data = imr.transform(merge_3)"
   ]
  },
  {
   "cell_type": "code",
   "execution_count": 85,
   "metadata": {},
   "outputs": [],
   "source": [
    "merge_3 = pd.DataFrame(imputed_data)"
   ]
  },
  {
   "cell_type": "code",
   "execution_count": 29,
   "metadata": {},
   "outputs": [
    {
     "data": {
      "text/html": [
       "<div>\n",
       "<style scoped>\n",
       "    .dataframe tbody tr th:only-of-type {\n",
       "        vertical-align: middle;\n",
       "    }\n",
       "\n",
       "    .dataframe tbody tr th {\n",
       "        vertical-align: top;\n",
       "    }\n",
       "\n",
       "    .dataframe thead th {\n",
       "        text-align: right;\n",
       "    }\n",
       "</style>\n",
       "<table border=\"1\" class=\"dataframe\">\n",
       "  <thead>\n",
       "    <tr style=\"text-align: right;\">\n",
       "      <th></th>\n",
       "      <th>Transaction-ID</th>\n",
       "      <th>Date-of-Travel</th>\n",
       "      <th>Company</th>\n",
       "      <th>City</th>\n",
       "      <th>KM-Travelled</th>\n",
       "      <th>Price-Charged</th>\n",
       "      <th>Cost-of-Trip</th>\n",
       "      <th>Population</th>\n",
       "      <th>Users</th>\n",
       "      <th>Customer-ID</th>\n",
       "      <th>Gender</th>\n",
       "      <th>Age</th>\n",
       "      <th>Income(USD/Month)</th>\n",
       "      <th>Payment_Mode</th>\n",
       "    </tr>\n",
       "  </thead>\n",
       "  <tbody>\n",
       "    <tr>\n",
       "      <th>0</th>\n",
       "      <td>1e+07</td>\n",
       "      <td>42377</td>\n",
       "      <td>Pink Cab</td>\n",
       "      <td>ATLANTA GA</td>\n",
       "      <td>30.45</td>\n",
       "      <td>370.95</td>\n",
       "      <td>313.635</td>\n",
       "      <td>814,885</td>\n",
       "      <td>24,701</td>\n",
       "      <td>29290</td>\n",
       "      <td>Male</td>\n",
       "      <td>28</td>\n",
       "      <td>10813</td>\n",
       "      <td>Card</td>\n",
       "    </tr>\n",
       "    <tr>\n",
       "      <th>1</th>\n",
       "      <td>1e+07</td>\n",
       "      <td>42375</td>\n",
       "      <td>Pink Cab</td>\n",
       "      <td>ATLANTA GA</td>\n",
       "      <td>28.62</td>\n",
       "      <td>358.52</td>\n",
       "      <td>334.854</td>\n",
       "      <td>814,885</td>\n",
       "      <td>24,701</td>\n",
       "      <td>27703</td>\n",
       "      <td>Male</td>\n",
       "      <td>27</td>\n",
       "      <td>9237</td>\n",
       "      <td>Card</td>\n",
       "    </tr>\n",
       "    <tr>\n",
       "      <th>2</th>\n",
       "      <td>1e+07</td>\n",
       "      <td>42371</td>\n",
       "      <td>Pink Cab</td>\n",
       "      <td>ATLANTA GA</td>\n",
       "      <td>9.04</td>\n",
       "      <td>125.2</td>\n",
       "      <td>97.632</td>\n",
       "      <td>814,885</td>\n",
       "      <td>24,701</td>\n",
       "      <td>28712</td>\n",
       "      <td>Male</td>\n",
       "      <td>53</td>\n",
       "      <td>11242</td>\n",
       "      <td>Cash</td>\n",
       "    </tr>\n",
       "  </tbody>\n",
       "</table>\n",
       "</div>"
      ],
      "text/plain": [
       "  Transaction-ID Date-of-Travel   Company        City KM-Travelled  \\\n",
       "0          1e+07          42377  Pink Cab  ATLANTA GA        30.45   \n",
       "1          1e+07          42375  Pink Cab  ATLANTA GA        28.62   \n",
       "2          1e+07          42371  Pink Cab  ATLANTA GA         9.04   \n",
       "\n",
       "  Price-Charged Cost-of-Trip Population     Users Customer-ID Gender Age  \\\n",
       "0        370.95      313.635   814,885    24,701        29290   Male  28   \n",
       "1        358.52      334.854   814,885    24,701        27703   Male  27   \n",
       "2         125.2       97.632   814,885    24,701        28712   Male  53   \n",
       "\n",
       "  Income(USD/Month) Payment_Mode  \n",
       "0             10813         Card  \n",
       "1              9237         Card  \n",
       "2             11242         Cash  "
      ]
     },
     "execution_count": 29,
     "metadata": {},
     "output_type": "execute_result"
    }
   ],
   "source": [
    "merge_3.head(3)"
   ]
  },
  {
   "cell_type": "code",
   "execution_count": 86,
   "metadata": {},
   "outputs": [],
   "source": [
    "merge_3 = merge_3.rename(columns={0:\"Transaction-ID\",\t1:\"Date-of-Travel\",\t2:\"Company\", 3:\"City\",\t4:\"KM-Travelled\",\t5:\"Price-Charged\",\t6:\"Cost-of-Trip\",\t7:\"Population\",\t8:\"Users\",\t9:\"Customer-ID\"\t, 10:\"Gender\",\t11:\"Age\",\t12:\"Income(USD/Month)\",\t13:\"Payment_Mode\"})"
   ]
  },
  {
   "cell_type": "code",
   "execution_count": 14,
   "metadata": {},
   "outputs": [
    {
     "data": {
      "text/plain": [
       "False"
      ]
     },
     "execution_count": 14,
     "metadata": {},
     "output_type": "execute_result"
    }
   ],
   "source": [
    "merge_3.isnull().values.any()"
   ]
  },
  {
   "cell_type": "markdown",
   "metadata": {},
   "source": [
    "Seems that we have no NaN values, all the NaN values are replaced with the most frequent value of each column."
   ]
  },
  {
   "cell_type": "markdown",
   "metadata": {},
   "source": [
    "**2. Data Encoding** <br>\n",
    "The computer reads numbers, even the most complex ones. It is much easier to understand numerical data rather than categorical, which is why I'll encode data.\n"
   ]
  },
  {
   "cell_type": "markdown",
   "metadata": {},
   "source": [
    "First, I am going to encode Company Column.\n",
    "* 0 represents the **Pink Cab**\n",
    "* 1 represents the **Yellow Cab**"
   ]
  },
  {
   "cell_type": "code",
   "execution_count": 87,
   "metadata": {},
   "outputs": [
    {
     "data": {
      "text/html": [
       "<div>\n",
       "<style scoped>\n",
       "    .dataframe tbody tr th:only-of-type {\n",
       "        vertical-align: middle;\n",
       "    }\n",
       "\n",
       "    .dataframe tbody tr th {\n",
       "        vertical-align: top;\n",
       "    }\n",
       "\n",
       "    .dataframe thead th {\n",
       "        text-align: right;\n",
       "    }\n",
       "</style>\n",
       "<table border=\"1\" class=\"dataframe\">\n",
       "  <thead>\n",
       "    <tr style=\"text-align: right;\">\n",
       "      <th></th>\n",
       "      <th>Transaction-ID</th>\n",
       "      <th>Date-of-Travel</th>\n",
       "      <th>Company</th>\n",
       "      <th>City</th>\n",
       "      <th>KM-Travelled</th>\n",
       "      <th>Price-Charged</th>\n",
       "      <th>Cost-of-Trip</th>\n",
       "      <th>Population</th>\n",
       "      <th>Users</th>\n",
       "      <th>Customer-ID</th>\n",
       "      <th>Gender</th>\n",
       "      <th>Age</th>\n",
       "      <th>Income(USD/Month)</th>\n",
       "      <th>Payment_Mode</th>\n",
       "    </tr>\n",
       "  </thead>\n",
       "  <tbody>\n",
       "    <tr>\n",
       "      <th>0</th>\n",
       "      <td>1e+07</td>\n",
       "      <td>42377</td>\n",
       "      <td>0.0</td>\n",
       "      <td>8</td>\n",
       "      <td>30.45</td>\n",
       "      <td>370.95</td>\n",
       "      <td>313.635</td>\n",
       "      <td>814,885</td>\n",
       "      <td>24,701</td>\n",
       "      <td>29290</td>\n",
       "      <td>1</td>\n",
       "      <td>28</td>\n",
       "      <td>10813</td>\n",
       "      <td>1</td>\n",
       "    </tr>\n",
       "    <tr>\n",
       "      <th>1</th>\n",
       "      <td>1e+07</td>\n",
       "      <td>42375</td>\n",
       "      <td>0.0</td>\n",
       "      <td>8</td>\n",
       "      <td>28.62</td>\n",
       "      <td>358.52</td>\n",
       "      <td>334.854</td>\n",
       "      <td>814,885</td>\n",
       "      <td>24,701</td>\n",
       "      <td>27703</td>\n",
       "      <td>1</td>\n",
       "      <td>27</td>\n",
       "      <td>9237</td>\n",
       "      <td>1</td>\n",
       "    </tr>\n",
       "    <tr>\n",
       "      <th>2</th>\n",
       "      <td>1e+07</td>\n",
       "      <td>42371</td>\n",
       "      <td>0.0</td>\n",
       "      <td>8</td>\n",
       "      <td>9.04</td>\n",
       "      <td>125.2</td>\n",
       "      <td>97.632</td>\n",
       "      <td>814,885</td>\n",
       "      <td>24,701</td>\n",
       "      <td>28712</td>\n",
       "      <td>1</td>\n",
       "      <td>53</td>\n",
       "      <td>11242</td>\n",
       "      <td>0</td>\n",
       "    </tr>\n",
       "    <tr>\n",
       "      <th>3</th>\n",
       "      <td>1e+07</td>\n",
       "      <td>42376</td>\n",
       "      <td>0.0</td>\n",
       "      <td>8</td>\n",
       "      <td>33.17</td>\n",
       "      <td>377.4</td>\n",
       "      <td>351.602</td>\n",
       "      <td>814,885</td>\n",
       "      <td>24,701</td>\n",
       "      <td>28020</td>\n",
       "      <td>1</td>\n",
       "      <td>23</td>\n",
       "      <td>23327</td>\n",
       "      <td>0</td>\n",
       "    </tr>\n",
       "    <tr>\n",
       "      <th>4</th>\n",
       "      <td>1e+07</td>\n",
       "      <td>42372</td>\n",
       "      <td>0.0</td>\n",
       "      <td>8</td>\n",
       "      <td>8.73</td>\n",
       "      <td>114.62</td>\n",
       "      <td>97.776</td>\n",
       "      <td>814,885</td>\n",
       "      <td>24,701</td>\n",
       "      <td>27182</td>\n",
       "      <td>1</td>\n",
       "      <td>33</td>\n",
       "      <td>8536</td>\n",
       "      <td>1</td>\n",
       "    </tr>\n",
       "  </tbody>\n",
       "</table>\n",
       "</div>"
      ],
      "text/plain": [
       "  Transaction-ID Date-of-Travel  Company City KM-Travelled Price-Charged  \\\n",
       "0          1e+07          42377      0.0    8        30.45        370.95   \n",
       "1          1e+07          42375      0.0    8        28.62        358.52   \n",
       "2          1e+07          42371      0.0    8         9.04         125.2   \n",
       "3          1e+07          42376      0.0    8        33.17         377.4   \n",
       "4          1e+07          42372      0.0    8         8.73        114.62   \n",
       "\n",
       "  Cost-of-Trip Population     Users Customer-ID Gender Age Income(USD/Month)  \\\n",
       "0      313.635   814,885    24,701        29290      1  28             10813   \n",
       "1      334.854   814,885    24,701        27703      1  27              9237   \n",
       "2       97.632   814,885    24,701        28712      1  53             11242   \n",
       "3      351.602   814,885    24,701        28020      1  23             23327   \n",
       "4       97.776   814,885    24,701        27182      1  33              8536   \n",
       "\n",
       "  Payment_Mode  \n",
       "0            1  \n",
       "1            1  \n",
       "2            0  \n",
       "3            0  \n",
       "4            1  "
      ]
     },
     "execution_count": 87,
     "metadata": {},
     "output_type": "execute_result"
    }
   ],
   "source": [
    "merge_3 = merge_3.replace({\"Company\":{\"Pink Cab\":0,\"Yellow Cab\":1}})\n",
    "merge_3.head()"
   ]
  },
  {
   "cell_type": "markdown",
   "metadata": {},
   "source": [
    "Now, it is time to encode Cities. But first, let's find out how many cities we have and what are the name of these cities."
   ]
  },
  {
   "cell_type": "code",
   "execution_count": 44,
   "metadata": {},
   "outputs": [
    {
     "data": {
      "text/plain": [
       "NEW YORK NY         180591\n",
       "CHICAGO IL           56625\n",
       "LOS ANGELES CA       48033\n",
       "WASHINGTON DC        43737\n",
       "BOSTON MA            29692\n",
       "SAN DIEGO CA         20488\n",
       "SILICON VALLEY        8519\n",
       "SEATTLE WA            7997\n",
       "ATLANTA GA            7557\n",
       "DALLAS TX             7017\n",
       "MIAMI FL              6454\n",
       "AUSTIN TX             4896\n",
       "ORANGE COUNTY         3982\n",
       "DENVER CO             3825\n",
       "NASHVILLE TN          3010\n",
       "SACRAMENTO CA         2367\n",
       "PHOENIX AZ            2064\n",
       "TUCSON AZ             1931\n",
       "PITTSBURGH PA         1313\n",
       "SAN FRANCISCO CA         1\n",
       "Name: City, dtype: int64"
      ]
     },
     "execution_count": 44,
     "metadata": {},
     "output_type": "execute_result"
    }
   ],
   "source": [
    "merge_3[\"City\"].value_counts()"
   ]
  },
  {
   "cell_type": "markdown",
   "metadata": {},
   "source": [
    "Let's encode:\n",
    "* NEW YORK NY as 0,\n",
    "* CHICAGO IL as 1,\n",
    "* LOS ANGELES CA as 2,\n",
    "* WASHINGTON DC as 3,\n",
    "* BOSTON MA as 4,\n",
    "* SAN DIEGO CA as 5,\n",
    "* SILICON VALLEY as 6,\n",
    "* SEATTLE WA as 7,\n",
    "* ATLANTA GA as 8,\n",
    "* DALLAS TX as 9,\n",
    "* MIAMI FL as 10,\n",
    "* AUSTIN TX as 11,\n",
    "* ORANGE COUNTY as 12,\n",
    "* DENVER CO as 13,\n",
    "* NASHVILLE TN as 14,\n",
    "* SACRAMENTO CA as 15,\n",
    "* PHOENIX AZ as 16,\n",
    "* TUCSON AZ as 17,\n",
    "* PITTSBURGH PA as 18,\n",
    "* SAN FRANCISCO CA as 19"
   ]
  },
  {
   "cell_type": "code",
   "execution_count": 88,
   "metadata": {},
   "outputs": [
    {
     "data": {
      "text/html": [
       "<div>\n",
       "<style scoped>\n",
       "    .dataframe tbody tr th:only-of-type {\n",
       "        vertical-align: middle;\n",
       "    }\n",
       "\n",
       "    .dataframe tbody tr th {\n",
       "        vertical-align: top;\n",
       "    }\n",
       "\n",
       "    .dataframe thead th {\n",
       "        text-align: right;\n",
       "    }\n",
       "</style>\n",
       "<table border=\"1\" class=\"dataframe\">\n",
       "  <thead>\n",
       "    <tr style=\"text-align: right;\">\n",
       "      <th></th>\n",
       "      <th>Transaction-ID</th>\n",
       "      <th>Date-of-Travel</th>\n",
       "      <th>Company</th>\n",
       "      <th>City</th>\n",
       "      <th>KM-Travelled</th>\n",
       "      <th>Price-Charged</th>\n",
       "      <th>Cost-of-Trip</th>\n",
       "      <th>Population</th>\n",
       "      <th>Users</th>\n",
       "      <th>Customer-ID</th>\n",
       "      <th>Gender</th>\n",
       "      <th>Age</th>\n",
       "      <th>Income(USD/Month)</th>\n",
       "      <th>Payment_Mode</th>\n",
       "    </tr>\n",
       "  </thead>\n",
       "  <tbody>\n",
       "    <tr>\n",
       "      <th>0</th>\n",
       "      <td>1e+07</td>\n",
       "      <td>42377</td>\n",
       "      <td>0.0</td>\n",
       "      <td>8.0</td>\n",
       "      <td>30.45</td>\n",
       "      <td>370.95</td>\n",
       "      <td>313.635</td>\n",
       "      <td>814,885</td>\n",
       "      <td>24,701</td>\n",
       "      <td>29290</td>\n",
       "      <td>1</td>\n",
       "      <td>28</td>\n",
       "      <td>10813</td>\n",
       "      <td>1</td>\n",
       "    </tr>\n",
       "    <tr>\n",
       "      <th>1</th>\n",
       "      <td>1e+07</td>\n",
       "      <td>42375</td>\n",
       "      <td>0.0</td>\n",
       "      <td>8.0</td>\n",
       "      <td>28.62</td>\n",
       "      <td>358.52</td>\n",
       "      <td>334.854</td>\n",
       "      <td>814,885</td>\n",
       "      <td>24,701</td>\n",
       "      <td>27703</td>\n",
       "      <td>1</td>\n",
       "      <td>27</td>\n",
       "      <td>9237</td>\n",
       "      <td>1</td>\n",
       "    </tr>\n",
       "    <tr>\n",
       "      <th>2</th>\n",
       "      <td>1e+07</td>\n",
       "      <td>42371</td>\n",
       "      <td>0.0</td>\n",
       "      <td>8.0</td>\n",
       "      <td>9.04</td>\n",
       "      <td>125.2</td>\n",
       "      <td>97.632</td>\n",
       "      <td>814,885</td>\n",
       "      <td>24,701</td>\n",
       "      <td>28712</td>\n",
       "      <td>1</td>\n",
       "      <td>53</td>\n",
       "      <td>11242</td>\n",
       "      <td>0</td>\n",
       "    </tr>\n",
       "    <tr>\n",
       "      <th>3</th>\n",
       "      <td>1e+07</td>\n",
       "      <td>42376</td>\n",
       "      <td>0.0</td>\n",
       "      <td>8.0</td>\n",
       "      <td>33.17</td>\n",
       "      <td>377.4</td>\n",
       "      <td>351.602</td>\n",
       "      <td>814,885</td>\n",
       "      <td>24,701</td>\n",
       "      <td>28020</td>\n",
       "      <td>1</td>\n",
       "      <td>23</td>\n",
       "      <td>23327</td>\n",
       "      <td>0</td>\n",
       "    </tr>\n",
       "    <tr>\n",
       "      <th>4</th>\n",
       "      <td>1e+07</td>\n",
       "      <td>42372</td>\n",
       "      <td>0.0</td>\n",
       "      <td>8.0</td>\n",
       "      <td>8.73</td>\n",
       "      <td>114.62</td>\n",
       "      <td>97.776</td>\n",
       "      <td>814,885</td>\n",
       "      <td>24,701</td>\n",
       "      <td>27182</td>\n",
       "      <td>1</td>\n",
       "      <td>33</td>\n",
       "      <td>8536</td>\n",
       "      <td>1</td>\n",
       "    </tr>\n",
       "  </tbody>\n",
       "</table>\n",
       "</div>"
      ],
      "text/plain": [
       "  Transaction-ID Date-of-Travel  Company  City KM-Travelled Price-Charged  \\\n",
       "0          1e+07          42377      0.0   8.0        30.45        370.95   \n",
       "1          1e+07          42375      0.0   8.0        28.62        358.52   \n",
       "2          1e+07          42371      0.0   8.0         9.04         125.2   \n",
       "3          1e+07          42376      0.0   8.0        33.17         377.4   \n",
       "4          1e+07          42372      0.0   8.0         8.73        114.62   \n",
       "\n",
       "  Cost-of-Trip Population     Users Customer-ID Gender Age Income(USD/Month)  \\\n",
       "0      313.635   814,885    24,701        29290      1  28             10813   \n",
       "1      334.854   814,885    24,701        27703      1  27              9237   \n",
       "2       97.632   814,885    24,701        28712      1  53             11242   \n",
       "3      351.602   814,885    24,701        28020      1  23             23327   \n",
       "4       97.776   814,885    24,701        27182      1  33              8536   \n",
       "\n",
       "  Payment_Mode  \n",
       "0            1  \n",
       "1            1  \n",
       "2            0  \n",
       "3            0  \n",
       "4            1  "
      ]
     },
     "execution_count": 88,
     "metadata": {},
     "output_type": "execute_result"
    }
   ],
   "source": [
    "merge_3 = merge_3.replace({\"City\":{\"NEW YORK NY\":0,\"CHICAGO IL\":1, \"LOS ANGELES CA\":2, \"WASHINGTON DC\":3, \"BOSTON MA\":4, \"SAN DIEGO CA\":5, \"SILICON VALLEY\":6, \"SEATTLE WA\":7, \"ATLANTA GA\":8, \"DALLAS TX\":9, \"MIAMI FL\":10, \"AUSTIN TX\":11, \"ORANGE COUNTY\":12, \"DENVER CO\":13, \"NASHVILLE TN\":14, \"SACRAMENTO CA\":15, \"PHOENIX AZ\":16, \"TUCSON AZ\":17, \"PITTSBURGH PA\":18, \"SAN FRANCISCO CA\":19}})\n",
    "merge_3.head()"
   ]
  },
  {
   "cell_type": "markdown",
   "metadata": {},
   "source": [
    "Now, it is time to encode Gender Column.<br>\n",
    "Lets encode:\n",
    "* Male as 1,\n",
    "* Female as 0"
   ]
  },
  {
   "cell_type": "code",
   "execution_count": 89,
   "metadata": {},
   "outputs": [
    {
     "data": {
      "text/html": [
       "<div>\n",
       "<style scoped>\n",
       "    .dataframe tbody tr th:only-of-type {\n",
       "        vertical-align: middle;\n",
       "    }\n",
       "\n",
       "    .dataframe tbody tr th {\n",
       "        vertical-align: top;\n",
       "    }\n",
       "\n",
       "    .dataframe thead th {\n",
       "        text-align: right;\n",
       "    }\n",
       "</style>\n",
       "<table border=\"1\" class=\"dataframe\">\n",
       "  <thead>\n",
       "    <tr style=\"text-align: right;\">\n",
       "      <th></th>\n",
       "      <th>Transaction-ID</th>\n",
       "      <th>Date-of-Travel</th>\n",
       "      <th>Company</th>\n",
       "      <th>City</th>\n",
       "      <th>KM-Travelled</th>\n",
       "      <th>Price-Charged</th>\n",
       "      <th>Cost-of-Trip</th>\n",
       "      <th>Population</th>\n",
       "      <th>Users</th>\n",
       "      <th>Customer-ID</th>\n",
       "      <th>Gender</th>\n",
       "      <th>Age</th>\n",
       "      <th>Income(USD/Month)</th>\n",
       "      <th>Payment_Mode</th>\n",
       "    </tr>\n",
       "  </thead>\n",
       "  <tbody>\n",
       "    <tr>\n",
       "      <th>0</th>\n",
       "      <td>1e+07</td>\n",
       "      <td>42377</td>\n",
       "      <td>0.0</td>\n",
       "      <td>8.0</td>\n",
       "      <td>30.45</td>\n",
       "      <td>370.95</td>\n",
       "      <td>313.635</td>\n",
       "      <td>814,885</td>\n",
       "      <td>24,701</td>\n",
       "      <td>29290</td>\n",
       "      <td>1.0</td>\n",
       "      <td>28</td>\n",
       "      <td>10813</td>\n",
       "      <td>1</td>\n",
       "    </tr>\n",
       "    <tr>\n",
       "      <th>1</th>\n",
       "      <td>1e+07</td>\n",
       "      <td>42375</td>\n",
       "      <td>0.0</td>\n",
       "      <td>8.0</td>\n",
       "      <td>28.62</td>\n",
       "      <td>358.52</td>\n",
       "      <td>334.854</td>\n",
       "      <td>814,885</td>\n",
       "      <td>24,701</td>\n",
       "      <td>27703</td>\n",
       "      <td>1.0</td>\n",
       "      <td>27</td>\n",
       "      <td>9237</td>\n",
       "      <td>1</td>\n",
       "    </tr>\n",
       "    <tr>\n",
       "      <th>2</th>\n",
       "      <td>1e+07</td>\n",
       "      <td>42371</td>\n",
       "      <td>0.0</td>\n",
       "      <td>8.0</td>\n",
       "      <td>9.04</td>\n",
       "      <td>125.2</td>\n",
       "      <td>97.632</td>\n",
       "      <td>814,885</td>\n",
       "      <td>24,701</td>\n",
       "      <td>28712</td>\n",
       "      <td>1.0</td>\n",
       "      <td>53</td>\n",
       "      <td>11242</td>\n",
       "      <td>0</td>\n",
       "    </tr>\n",
       "    <tr>\n",
       "      <th>3</th>\n",
       "      <td>1e+07</td>\n",
       "      <td>42376</td>\n",
       "      <td>0.0</td>\n",
       "      <td>8.0</td>\n",
       "      <td>33.17</td>\n",
       "      <td>377.4</td>\n",
       "      <td>351.602</td>\n",
       "      <td>814,885</td>\n",
       "      <td>24,701</td>\n",
       "      <td>28020</td>\n",
       "      <td>1.0</td>\n",
       "      <td>23</td>\n",
       "      <td>23327</td>\n",
       "      <td>0</td>\n",
       "    </tr>\n",
       "    <tr>\n",
       "      <th>4</th>\n",
       "      <td>1e+07</td>\n",
       "      <td>42372</td>\n",
       "      <td>0.0</td>\n",
       "      <td>8.0</td>\n",
       "      <td>8.73</td>\n",
       "      <td>114.62</td>\n",
       "      <td>97.776</td>\n",
       "      <td>814,885</td>\n",
       "      <td>24,701</td>\n",
       "      <td>27182</td>\n",
       "      <td>1.0</td>\n",
       "      <td>33</td>\n",
       "      <td>8536</td>\n",
       "      <td>1</td>\n",
       "    </tr>\n",
       "  </tbody>\n",
       "</table>\n",
       "</div>"
      ],
      "text/plain": [
       "  Transaction-ID Date-of-Travel  Company  City KM-Travelled Price-Charged  \\\n",
       "0          1e+07          42377      0.0   8.0        30.45        370.95   \n",
       "1          1e+07          42375      0.0   8.0        28.62        358.52   \n",
       "2          1e+07          42371      0.0   8.0         9.04         125.2   \n",
       "3          1e+07          42376      0.0   8.0        33.17         377.4   \n",
       "4          1e+07          42372      0.0   8.0         8.73        114.62   \n",
       "\n",
       "  Cost-of-Trip Population     Users Customer-ID  Gender Age Income(USD/Month)  \\\n",
       "0      313.635   814,885    24,701        29290     1.0  28             10813   \n",
       "1      334.854   814,885    24,701        27703     1.0  27              9237   \n",
       "2       97.632   814,885    24,701        28712     1.0  53             11242   \n",
       "3      351.602   814,885    24,701        28020     1.0  23             23327   \n",
       "4       97.776   814,885    24,701        27182     1.0  33              8536   \n",
       "\n",
       "  Payment_Mode  \n",
       "0            1  \n",
       "1            1  \n",
       "2            0  \n",
       "3            0  \n",
       "4            1  "
      ]
     },
     "execution_count": 89,
     "metadata": {},
     "output_type": "execute_result"
    }
   ],
   "source": [
    "merge_3 = merge_3.replace({\"Gender\":{\"Female\":0,\"Male\":1}})\n",
    "merge_3.head()"
   ]
  },
  {
   "cell_type": "markdown",
   "metadata": {},
   "source": [
    "Lastly, let's encode the Payment_Mode.\n",
    "* Card as 1,\n",
    "* Cash as 0"
   ]
  },
  {
   "cell_type": "code",
   "execution_count": 90,
   "metadata": {},
   "outputs": [
    {
     "data": {
      "text/html": [
       "<div>\n",
       "<style scoped>\n",
       "    .dataframe tbody tr th:only-of-type {\n",
       "        vertical-align: middle;\n",
       "    }\n",
       "\n",
       "    .dataframe tbody tr th {\n",
       "        vertical-align: top;\n",
       "    }\n",
       "\n",
       "    .dataframe thead th {\n",
       "        text-align: right;\n",
       "    }\n",
       "</style>\n",
       "<table border=\"1\" class=\"dataframe\">\n",
       "  <thead>\n",
       "    <tr style=\"text-align: right;\">\n",
       "      <th></th>\n",
       "      <th>Transaction-ID</th>\n",
       "      <th>Date-of-Travel</th>\n",
       "      <th>Company</th>\n",
       "      <th>City</th>\n",
       "      <th>KM-Travelled</th>\n",
       "      <th>Price-Charged</th>\n",
       "      <th>Cost-of-Trip</th>\n",
       "      <th>Population</th>\n",
       "      <th>Users</th>\n",
       "      <th>Customer-ID</th>\n",
       "      <th>Gender</th>\n",
       "      <th>Age</th>\n",
       "      <th>Income(USD/Month)</th>\n",
       "      <th>Payment_Mode</th>\n",
       "    </tr>\n",
       "  </thead>\n",
       "  <tbody>\n",
       "    <tr>\n",
       "      <th>0</th>\n",
       "      <td>1e+07</td>\n",
       "      <td>42377</td>\n",
       "      <td>0.0</td>\n",
       "      <td>8.0</td>\n",
       "      <td>30.45</td>\n",
       "      <td>370.95</td>\n",
       "      <td>313.635</td>\n",
       "      <td>814,885</td>\n",
       "      <td>24,701</td>\n",
       "      <td>29290</td>\n",
       "      <td>1.0</td>\n",
       "      <td>28</td>\n",
       "      <td>10813</td>\n",
       "      <td>1.0</td>\n",
       "    </tr>\n",
       "    <tr>\n",
       "      <th>1</th>\n",
       "      <td>1e+07</td>\n",
       "      <td>42375</td>\n",
       "      <td>0.0</td>\n",
       "      <td>8.0</td>\n",
       "      <td>28.62</td>\n",
       "      <td>358.52</td>\n",
       "      <td>334.854</td>\n",
       "      <td>814,885</td>\n",
       "      <td>24,701</td>\n",
       "      <td>27703</td>\n",
       "      <td>1.0</td>\n",
       "      <td>27</td>\n",
       "      <td>9237</td>\n",
       "      <td>1.0</td>\n",
       "    </tr>\n",
       "    <tr>\n",
       "      <th>2</th>\n",
       "      <td>1e+07</td>\n",
       "      <td>42371</td>\n",
       "      <td>0.0</td>\n",
       "      <td>8.0</td>\n",
       "      <td>9.04</td>\n",
       "      <td>125.2</td>\n",
       "      <td>97.632</td>\n",
       "      <td>814,885</td>\n",
       "      <td>24,701</td>\n",
       "      <td>28712</td>\n",
       "      <td>1.0</td>\n",
       "      <td>53</td>\n",
       "      <td>11242</td>\n",
       "      <td>0.0</td>\n",
       "    </tr>\n",
       "    <tr>\n",
       "      <th>3</th>\n",
       "      <td>1e+07</td>\n",
       "      <td>42376</td>\n",
       "      <td>0.0</td>\n",
       "      <td>8.0</td>\n",
       "      <td>33.17</td>\n",
       "      <td>377.4</td>\n",
       "      <td>351.602</td>\n",
       "      <td>814,885</td>\n",
       "      <td>24,701</td>\n",
       "      <td>28020</td>\n",
       "      <td>1.0</td>\n",
       "      <td>23</td>\n",
       "      <td>23327</td>\n",
       "      <td>0.0</td>\n",
       "    </tr>\n",
       "    <tr>\n",
       "      <th>4</th>\n",
       "      <td>1e+07</td>\n",
       "      <td>42372</td>\n",
       "      <td>0.0</td>\n",
       "      <td>8.0</td>\n",
       "      <td>8.73</td>\n",
       "      <td>114.62</td>\n",
       "      <td>97.776</td>\n",
       "      <td>814,885</td>\n",
       "      <td>24,701</td>\n",
       "      <td>27182</td>\n",
       "      <td>1.0</td>\n",
       "      <td>33</td>\n",
       "      <td>8536</td>\n",
       "      <td>1.0</td>\n",
       "    </tr>\n",
       "  </tbody>\n",
       "</table>\n",
       "</div>"
      ],
      "text/plain": [
       "  Transaction-ID Date-of-Travel  Company  City KM-Travelled Price-Charged  \\\n",
       "0          1e+07          42377      0.0   8.0        30.45        370.95   \n",
       "1          1e+07          42375      0.0   8.0        28.62        358.52   \n",
       "2          1e+07          42371      0.0   8.0         9.04         125.2   \n",
       "3          1e+07          42376      0.0   8.0        33.17         377.4   \n",
       "4          1e+07          42372      0.0   8.0         8.73        114.62   \n",
       "\n",
       "  Cost-of-Trip Population     Users Customer-ID  Gender Age Income(USD/Month)  \\\n",
       "0      313.635   814,885    24,701        29290     1.0  28             10813   \n",
       "1      334.854   814,885    24,701        27703     1.0  27              9237   \n",
       "2       97.632   814,885    24,701        28712     1.0  53             11242   \n",
       "3      351.602   814,885    24,701        28020     1.0  23             23327   \n",
       "4       97.776   814,885    24,701        27182     1.0  33              8536   \n",
       "\n",
       "   Payment_Mode  \n",
       "0           1.0  \n",
       "1           1.0  \n",
       "2           0.0  \n",
       "3           0.0  \n",
       "4           1.0  "
      ]
     },
     "execution_count": 90,
     "metadata": {},
     "output_type": "execute_result"
    }
   ],
   "source": [
    "merge_3 = merge_3.replace({\"Payment_Mode\":{\"Cash\":0,\"Card\":1}})\n",
    "merge_3.head()"
   ]
  },
  {
   "cell_type": "markdown",
   "metadata": {},
   "source": [
    "As all data is encoded, we can continue with 3'rd step: Outlier detection and elimination"
   ]
  },
  {
   "cell_type": "markdown",
   "metadata": {},
   "source": [
    "3. **Outlier detection** "
   ]
  },
  {
   "cell_type": "markdown",
   "metadata": {},
   "source": [
    "As outliers can affect the quality of our model, we need to look for them in our numerical columns. <br>\n",
    "Best way to do this is plotting our numerical columns with Histogram chart."
   ]
  },
  {
   "cell_type": "code",
   "execution_count": 71,
   "metadata": {},
   "outputs": [
    {
     "data": {
      "text/plain": [
       "1    355388\n",
       "0     84711\n",
       "Name: Company, dtype: int64"
      ]
     },
     "execution_count": 71,
     "metadata": {},
     "output_type": "execute_result"
    }
   ],
   "source": [
    "merge_3[\"Company\"].value_counts()"
   ]
  },
  {
   "cell_type": "code",
   "execution_count": 70,
   "metadata": {},
   "outputs": [
    {
     "data": {
      "text/plain": [
       "array([[<matplotlib.axes._subplots.AxesSubplot object at 0x0000018F2646B9D0>,\n",
       "        <matplotlib.axes._subplots.AxesSubplot object at 0x0000018F23A9C1F0>,\n",
       "        <matplotlib.axes._subplots.AxesSubplot object at 0x0000018F22FFA640>],\n",
       "       [<matplotlib.axes._subplots.AxesSubplot object at 0x0000018F26A29A90>,\n",
       "        <matplotlib.axes._subplots.AxesSubplot object at 0x0000018F1FAC5EE0>,\n",
       "        <matplotlib.axes._subplots.AxesSubplot object at 0x0000018F1FAFD2B0>],\n",
       "       [<matplotlib.axes._subplots.AxesSubplot object at 0x0000018F1FAFD3A0>,\n",
       "        <matplotlib.axes._subplots.AxesSubplot object at 0x0000018F1FB57C40>,\n",
       "        <matplotlib.axes._subplots.AxesSubplot object at 0x0000018F1FB86190>]],\n",
       "      dtype=object)"
      ]
     },
     "execution_count": 70,
     "metadata": {},
     "output_type": "execute_result"
    },
    {
     "data": {
      "image/png": "[encoded data removed]",
      "text/plain": [
       "<Figure size 1080x720 with 9 Axes>"
      ]
     },
     "metadata": {},
     "output_type": "display_data"
    }
   ],
   "source": [
    "merge_3.hist(bins=30,figsize = (15,10))"
   ]
  },
  {
   "cell_type": "markdown",
   "metadata": {},
   "source": [
    "It seems that NYC and Jan are outliers from their categories. These outliers can manipulate ML Models."
   ]
  },
  {
   "cell_type": "markdown",
   "metadata": {},
   "source": [
    " 4. **Data Binning** <br>\n",
    "In this phase, I may introduce an interval that replaces the original value of all entries. In other words, except the those of ones within some ranges, I may delete all values. However, this step hurts my analysis because some columns include unique values such as Transaction ID's and Customer ID's. <br>\n",
    "Thus, I am skipping this step."
   ]
  },
  {
   "cell_type": "markdown",
   "metadata": {},
   "source": [
    "5. **Data Scaling**\n",
    "Machines don’t understand scale as we do. A person can easily find the difference between his/hers salary and his/hers weight, knowing that it is impossible to weigh as much as you receive monthly, but the computer does not; That’s the entire data set must be scaled **if M.L. algorithms will be used**. In a basic way, there are two ways to scale: Standardization and Normalization. In this step, as I am not going to use any ML algorithm, I'll skip this step."
   ]
  },
  {
   "cell_type": "markdown",
   "metadata": {},
   "source": [
    "<font color=red>**Which company has maximum cab users at a particular time period?**\n",
    "</font>"
   ]
  },
  {
   "cell_type": "markdown",
   "metadata": {},
   "source": [
    "CONVERTING XL DATE FORMAT TO REGULAR FORMAT"
   ]
  },
  {
   "cell_type": "code",
   "execution_count": 107,
   "metadata": {},
   "outputs": [],
   "source": [
    "import xlrd\n",
    "from datetime import datetime"
   ]
  },
  {
   "cell_type": "code",
   "execution_count": 108,
   "metadata": {},
   "outputs": [],
   "source": [
    "def read_date(date):\n",
    "    return xlrd.xldate.xldate_as_datetime(date, 0)"
   ]
  },
  {
   "cell_type": "code",
   "execution_count": 109,
   "metadata": {},
   "outputs": [],
   "source": [
    "merge_3['Date-of-Travel'] = pd.to_datetime(merge_3['Date-of-Travel'].apply(read_date), errors='coerce')"
   ]
  },
  {
   "cell_type": "code",
   "execution_count": 110,
   "metadata": {},
   "outputs": [
    {
     "data": {
      "text/plain": [
       "0        2016-01-08\n",
       "1        2016-01-06\n",
       "2        2016-01-02\n",
       "3        2016-01-07\n",
       "4        2016-01-03\n",
       "            ...    \n",
       "440094   2018-01-05\n",
       "440095   2018-01-05\n",
       "440096   2018-01-05\n",
       "440097   2018-01-05\n",
       "440098   2018-01-05\n",
       "Name: Date-of-Travel, Length: 440099, dtype: datetime64[ns]"
      ]
     },
     "execution_count": 110,
     "metadata": {},
     "output_type": "execute_result"
    }
   ],
   "source": [
    "merge_3['Date-of-Travel']"
   ]
  },
  {
   "cell_type": "markdown",
   "metadata": {},
   "source": [
    "SPREADING DATE OF TRAVEL TO MONTHS AND YEARS FOR OUR ANALYSIS"
   ]
  },
  {
   "cell_type": "code",
   "execution_count": 111,
   "metadata": {},
   "outputs": [],
   "source": [
    "months=[]\n",
    "years =[]\n",
    "for i in range(len(merge_3['Date-of-Travel'])):\n",
    "    months.append(merge_3['Date-of-Travel'][i].month)\n",
    "    years.append(merge_3['Date-of-Travel'][i].year)\n",
    "merge_3['Month'] = months\n",
    "merge_3['Year'] = years"
   ]
  },
  {
   "cell_type": "code",
   "execution_count": 27,
   "metadata": {},
   "outputs": [
    {
     "data": {
      "text/html": [
       "<div>\n",
       "<style scoped>\n",
       "    .dataframe tbody tr th:only-of-type {\n",
       "        vertical-align: middle;\n",
       "    }\n",
       "\n",
       "    .dataframe tbody tr th {\n",
       "        vertical-align: top;\n",
       "    }\n",
       "\n",
       "    .dataframe thead th {\n",
       "        text-align: right;\n",
       "    }\n",
       "</style>\n",
       "<table border=\"1\" class=\"dataframe\">\n",
       "  <thead>\n",
       "    <tr style=\"text-align: right;\">\n",
       "      <th></th>\n",
       "      <th>Transaction-ID</th>\n",
       "      <th>Date-of-Travel</th>\n",
       "      <th>Company</th>\n",
       "      <th>City</th>\n",
       "      <th>KM-Travelled</th>\n",
       "      <th>Price-Charged</th>\n",
       "      <th>Cost-of-Trip</th>\n",
       "      <th>Population</th>\n",
       "      <th>Users</th>\n",
       "      <th>Customer-ID</th>\n",
       "      <th>Gender</th>\n",
       "      <th>Age</th>\n",
       "      <th>Income(USD/Month)</th>\n",
       "      <th>Payment_Mode</th>\n",
       "      <th>Month</th>\n",
       "      <th>Year</th>\n",
       "    </tr>\n",
       "  </thead>\n",
       "  <tbody>\n",
       "    <tr>\n",
       "      <th>0</th>\n",
       "      <td>1e+07</td>\n",
       "      <td>2016-01-08</td>\n",
       "      <td>0</td>\n",
       "      <td>8</td>\n",
       "      <td>30.45</td>\n",
       "      <td>370.95</td>\n",
       "      <td>313.635</td>\n",
       "      <td>814,885</td>\n",
       "      <td>24,701</td>\n",
       "      <td>29290</td>\n",
       "      <td>1</td>\n",
       "      <td>28</td>\n",
       "      <td>10813</td>\n",
       "      <td>1</td>\n",
       "      <td>1</td>\n",
       "      <td>2016</td>\n",
       "    </tr>\n",
       "    <tr>\n",
       "      <th>1</th>\n",
       "      <td>1e+07</td>\n",
       "      <td>2016-01-06</td>\n",
       "      <td>0</td>\n",
       "      <td>8</td>\n",
       "      <td>28.62</td>\n",
       "      <td>358.52</td>\n",
       "      <td>334.854</td>\n",
       "      <td>814,885</td>\n",
       "      <td>24,701</td>\n",
       "      <td>27703</td>\n",
       "      <td>1</td>\n",
       "      <td>27</td>\n",
       "      <td>9237</td>\n",
       "      <td>1</td>\n",
       "      <td>1</td>\n",
       "      <td>2016</td>\n",
       "    </tr>\n",
       "    <tr>\n",
       "      <th>2</th>\n",
       "      <td>1e+07</td>\n",
       "      <td>2016-01-02</td>\n",
       "      <td>0</td>\n",
       "      <td>8</td>\n",
       "      <td>9.04</td>\n",
       "      <td>125.2</td>\n",
       "      <td>97.632</td>\n",
       "      <td>814,885</td>\n",
       "      <td>24,701</td>\n",
       "      <td>28712</td>\n",
       "      <td>1</td>\n",
       "      <td>53</td>\n",
       "      <td>11242</td>\n",
       "      <td>0</td>\n",
       "      <td>1</td>\n",
       "      <td>2016</td>\n",
       "    </tr>\n",
       "  </tbody>\n",
       "</table>\n",
       "</div>"
      ],
      "text/plain": [
       "  Transaction-ID Date-of-Travel  Company  City KM-Travelled Price-Charged  \\\n",
       "0          1e+07     2016-01-08        0     8        30.45        370.95   \n",
       "1          1e+07     2016-01-06        0     8        28.62        358.52   \n",
       "2          1e+07     2016-01-02        0     8         9.04         125.2   \n",
       "\n",
       "  Cost-of-Trip Population     Users Customer-ID  Gender Age Income(USD/Month)  \\\n",
       "0      313.635   814,885    24,701        29290       1  28             10813   \n",
       "1      334.854   814,885    24,701        27703       1  27              9237   \n",
       "2       97.632   814,885    24,701        28712       1  53             11242   \n",
       "\n",
       "   Payment_Mode  Month  Year  \n",
       "0             1      1  2016  \n",
       "1             1      1  2016  \n",
       "2             0      1  2016  "
      ]
     },
     "execution_count": 27,
     "metadata": {},
     "output_type": "execute_result"
    }
   ],
   "source": [
    "merge_3.head(3)"
   ]
  },
  {
   "cell_type": "markdown",
   "metadata": {},
   "source": [
    "**maximum cab users by month**"
   ]
  },
  {
   "cell_type": "code",
   "execution_count": 60,
   "metadata": {},
   "outputs": [],
   "source": [
    "# Monthly\n",
    "pinkusersmonthly =merge_3[merge_3.Company==0].groupby('Month')['Transaction-ID'].count()\n",
    "yellowusersmonthly = merge_3[merge_3.Company==1].groupby('Month')['Transaction-ID'].count()"
   ]
  },
  {
   "cell_type": "code",
   "execution_count": 61,
   "metadata": {},
   "outputs": [
    {
     "data": {
      "image/png": "[encoded data removed]",
      "text/plain": [
       "<Figure size 432x288 with 1 Axes>"
      ]
     },
     "metadata": {},
     "output_type": "display_data"
    }
   ],
   "source": [
    "plt.bar(pinkusersmonthly.index,pinkusersmonthly,bottom= yellowusersmonthly,label = \"Pink Cab\")\n",
    "plt.bar(yellowusersmonthly.index, yellowusersmonthly, label = \"Yellow Cab\")\n",
    "plt.xlabel(\"Months\")\n",
    "plt.ylabel(\"Transactions\")\n",
    "plt.title(\"Maximum Cab Users by Month\")\n",
    "plt.legend()\n",
    "plt.style.use(\"ggplot\")\n",
    "plt.show()"
   ]
  },
  {
   "cell_type": "markdown",
   "metadata": {},
   "source": [
    "On montly basis, January is the maximum cab users for both companies, while the February is the least. In all months, Pink Cab has more customer than Yellow Cab."
   ]
  },
  {
   "cell_type": "markdown",
   "metadata": {},
   "source": [
    "**maximum cab users by year**"
   ]
  },
  {
   "cell_type": "code",
   "execution_count": 62,
   "metadata": {},
   "outputs": [],
   "source": [
    "#Yearly\n",
    "pinkusersyearly =merge_3[merge_3.Company==0].groupby('Year')['Transaction-ID'].count()\n",
    "yellowusersyearly = merge_3[merge_3.Company==1].groupby('Year')['Transaction-ID'].count()"
   ]
  },
  {
   "cell_type": "code",
   "execution_count": 67,
   "metadata": {},
   "outputs": [
    {
     "data": {
      "image/png": "[encoded data removed]",
      "text/plain": [
       "<Figure size 432x288 with 1 Axes>"
      ]
     },
     "metadata": {},
     "output_type": "display_data"
    }
   ],
   "source": [
    "plt.bar(pinkusersyearly.index,pinkusersyearly,bottom= yellowusersyearly,label = \"Pink Cab\")\n",
    "plt.bar(yellowusersyearly.index, yellowusersyearly, label = \"Yellow Cab\")\n",
    "plt.xlabel(\"Months\")\n",
    "plt.ylabel(\"Transactions\")\n",
    "plt.title(\"Maximum Cab Users by Year\")\n",
    "plt.legend()\n",
    "plt.style.use(\"ggplot\")\n",
    "plt.show()"
   ]
  },
  {
   "cell_type": "markdown",
   "metadata": {},
   "source": [
    "On yearly basis, 2018 is the maximum cab users for both companies, while the 2016 is the least. In all years, Pink Cab has more customer than Yellow Cab."
   ]
  }
 ],
 "metadata": {
  "kernelspec": {
   "display_name": "Python 3",
   "language": "python",
   "name": "python3"
  },
  "language_info": {
   "codemirror_mode": {
    "name": "ipython",
    "version": 3
   },
   "file_extension": ".py",
   "mimetype": "text/x-python",
   "name": "python",
   "nbconvert_exporter": "python",
   "pygments_lexer": "ipython3",
   "version": "3.8.3"
  }
 },
 "nbformat": 4,
 "nbformat_minor": 4
}
